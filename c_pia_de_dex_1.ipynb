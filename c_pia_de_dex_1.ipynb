{
  "nbformat": 4,
  "nbformat_minor": 0,
  "metadata": {
    "colab": {
      "provenance": [],
      "mount_file_id": "https://gist.github.com/ricardomsanti/5354e7f466e1f04f3a5c332d33bd2fdc#file-c-pia-de-dex_1-ipynb",
      "authorship_tag": "ABX9TyM98HvNBw6pCRWx3Mp72OrL",
      "include_colab_link": true
    },
    "kernelspec": {
      "name": "python3",
      "display_name": "Python 3"
    },
    "language_info": {
      "name": "python"
    }
  },
  "cells": [
    {
      "cell_type": "markdown",
      "metadata": {
        "id": "view-in-github",
        "colab_type": "text"
      },
      "source": [
        "<a href=\"https://colab.research.google.com/github/ricardomsanti/douExplore/blob/master/c_pia_de_dex_1.ipynb\" target=\"_parent\"><img src=\"https://colab.research.google.com/assets/colab-badge.svg\" alt=\"Open In Colab\"/></a>"
      ]
    },
    {
      "cell_type": "markdown",
      "source": [
        "DEPENCENCY "
      ],
      "metadata": {
        "id": "_x6X7Zft1xFV"
      }
    },
    {
      "cell_type": "code",
      "source": [
        "!pip install html5lib\n",
        "!pip install pyspark\n",
        "!pip install PyPDF2"
      ],
      "metadata": {
        "colab": {
          "base_uri": "https://localhost:8080/"
        },
        "id": "nQu46BESFlum",
        "outputId": "970603b2-56c8-4a13-f27d-94f69cbe5f6f"
      },
      "execution_count": 1,
      "outputs": [
        {
          "output_type": "stream",
          "name": "stdout",
          "text": [
            "Looking in indexes: https://pypi.org/simple, https://us-python.pkg.dev/colab-wheels/public/simple/\n",
            "Requirement already satisfied: html5lib in /usr/local/lib/python3.8/dist-packages (1.0.1)\n",
            "Requirement already satisfied: six>=1.9 in /usr/local/lib/python3.8/dist-packages (from html5lib) (1.15.0)\n",
            "Requirement already satisfied: webencodings in /usr/local/lib/python3.8/dist-packages (from html5lib) (0.5.1)\n",
            "Looking in indexes: https://pypi.org/simple, https://us-python.pkg.dev/colab-wheels/public/simple/\n",
            "Collecting pyspark\n",
            "  Downloading pyspark-3.3.1.tar.gz (281.4 MB)\n",
            "\u001b[2K     \u001b[90m━━━━━━━━━━━━━━━━━━━━━━━━━━━━━━━━━━━━━━━\u001b[0m \u001b[32m281.4/281.4 MB\u001b[0m \u001b[31m4.3 MB/s\u001b[0m eta \u001b[36m0:00:00\u001b[0m\n",
            "\u001b[?25h  Preparing metadata (setup.py) ... \u001b[?25l\u001b[?25hdone\n",
            "Collecting py4j==0.10.9.5\n",
            "  Downloading py4j-0.10.9.5-py2.py3-none-any.whl (199 kB)\n",
            "\u001b[2K     \u001b[90m━━━━━━━━━━━━━━━━━━━━━━━━━━━━━━━━━━━━━━\u001b[0m \u001b[32m199.7/199.7 KB\u001b[0m \u001b[31m27.4 MB/s\u001b[0m eta \u001b[36m0:00:00\u001b[0m\n",
            "\u001b[?25hBuilding wheels for collected packages: pyspark\n",
            "  Building wheel for pyspark (setup.py) ... \u001b[?25l\u001b[?25hdone\n",
            "  Created wheel for pyspark: filename=pyspark-3.3.1-py2.py3-none-any.whl size=281845512 sha256=9f22b69322ccd8b8e8e2edc3964f6f3fece735d79863c4f0070affb536806e88\n",
            "  Stored in directory: /root/.cache/pip/wheels/43/dc/11/ec201cd671da62fa9c5cc77078235e40722170ceba231d7598\n",
            "Successfully built pyspark\n",
            "Installing collected packages: py4j, pyspark\n",
            "Successfully installed py4j-0.10.9.5 pyspark-3.3.1\n",
            "Looking in indexes: https://pypi.org/simple, https://us-python.pkg.dev/colab-wheels/public/simple/\n",
            "Collecting PyPDF2\n",
            "  Downloading pypdf2-3.0.1-py3-none-any.whl (232 kB)\n",
            "\u001b[2K     \u001b[90m━━━━━━━━━━━━━━━━━━━━━━━━━━━━━━━━━━━━━━\u001b[0m \u001b[32m232.6/232.6 KB\u001b[0m \u001b[31m18.5 MB/s\u001b[0m eta \u001b[36m0:00:00\u001b[0m\n",
            "\u001b[?25hRequirement already satisfied: typing_extensions>=3.10.0.0 in /usr/local/lib/python3.8/dist-packages (from PyPDF2) (4.4.0)\n",
            "Installing collected packages: PyPDF2\n",
            "Successfully installed PyPDF2-3.0.1\n"
          ]
        }
      ]
    },
    {
      "cell_type": "code",
      "source": [
        "\n",
        "url = \"https://www.jusbrasil.com.br/diarios/DOU/2023/01/18/Secao-1\"\n",
        "response = r.get(url)\n",
        "from bs4 import BeautifulSoup as soup\n",
        "soup = BeautifulSoup(response.text, \"html5lib\")\n",
        "for x in soup.find_all(\"a\"):\n",
        "  print(x)"
      ],
      "metadata": {
        "id": "azZLW5fRb3df"
      },
      "execution_count": null,
      "outputs": []
    },
    {
      "cell_type": "markdown",
      "source": [
        "# DOU"
      ],
      "metadata": {
        "id": "2gcU67f-eUGf"
      }
    },
    {
      "cell_type": "code",
      "source": [
        "import os\n",
        "from PyPDF2 import PdfReader\n",
        "import requests as r\n",
        "from bs4 import BeautifulSoup\n",
        "from wordcloud import WordCloud\n",
        "import matplotlib.pyplot as plt"
      ],
      "metadata": {
        "id": "z_VJqu8r47y1"
      },
      "execution_count": 3,
      "outputs": []
    },
    {
      "cell_type": "code",
      "execution_count": 4,
      "metadata": {
        "id": "lFNAyEieCVhp",
        "outputId": "4b4f76f5-871d-4ed7-ed22-961ad6dcfe12",
        "colab": {
          "base_uri": "https://localhost:8080/"
        }
      },
      "outputs": [
        {
          "output_type": "execute_result",
          "data": {
            "text/plain": [
              "[['2023_01_18_ASSINADO_do2 (1).pdf',\n",
              "  57,\n",
              "  <PyPDF2._reader.PdfReader at 0x7fe93f2b4e80>],\n",
              " ['2023_01_18_ASSINADO_do2.pdf',\n",
              "  57,\n",
              "  <PyPDF2._reader.PdfReader at 0x7fe93789a340>],\n",
              " ['2023_01_18_ASSINADO_do3.pdf',\n",
              "  267,\n",
              "  <PyPDF2._reader.PdfReader at 0x7fe9378a0b50>]]"
            ]
          },
          "metadata": {},
          "execution_count": 4
        }
      ],
      "source": [
        "## ACESSAR\n",
        "# https://www.in.gov.br/servicos/diario-oficial-da-uniao\n",
        "## IR PARA BASES DE DADOS E PUBLICAÇÕES // DIÁRIO COMPLETO: VERSÃO CERTIFICADA\n",
        "## BAIXAR OS PDFS E COLOCAR NA PASTA CORRESPONDENTE\n",
        "\n",
        "#CAMINHO DO ARQUIVO\n",
        "FILES_PATH = \"/content/drive/MyDrive/DATA/DOU/SHARE\"\n",
        "#ARQUIVOS\n",
        "FILES = [[x.name, \n",
        "          len(PdfReader(open(x.path, 'rb')).pages),\n",
        "          PdfReader(open(x.path, 'rb'))\n",
        "          ] for x in os.scandir(FILES_PATH) if \".pdf\" in str(x)]\n",
        "FILES\n"
      ]
    },
    {
      "cell_type": "code",
      "source": [],
      "metadata": {
        "id": "20lc4sGz5xja",
        "colab": {
          "base_uri": "https://localhost:8080/"
        },
        "outputId": "23497b91-5cb1-4213-e0e4-60a49ad4c2e1"
      },
      "execution_count": null,
      "outputs": [
        {
          "output_type": "execute_result",
          "data": {
            "text/plain": [
              "[['2023_01_18_ASSINADO_do2 (1).pdf',\n",
              "  57,\n",
              "  <PyPDF2._reader.PdfReader at 0x7eff8185c5b0>],\n",
              " ['2023_01_18_ASSINADO_do3.pdf',\n",
              "  267,\n",
              "  <PyPDF2._reader.PdfReader at 0x7eff8173e190>],\n",
              " ['2023_01_18_ASSINADO_do2.pdf',\n",
              "  57,\n",
              "  <PyPDF2._reader.PdfReader at 0x7eff82fba0d0>]]"
            ]
          },
          "metadata": {},
          "execution_count": 37
        }
      ]
    },
    {
      "cell_type": "code",
      "source": [
        "#NUMERO DE PAGINAS\n",
        "files = []\n",
        "for file in FILES:\n",
        "  text = \"\"\n",
        "  file_name = file[0]\n",
        "  file_pgs = file[1]\n",
        "  file_obj = file[2]\n",
        "  for page in range(0,file_pgs):\n",
        "    text = file_obj.pages[page].extract_text()\n",
        "    text += \" \".join(text.split(\"\\n\"))\n",
        "    break\n",
        "  files = [file_name, file_pgs, text]\n",
        "files "
      ],
      "metadata": {
        "colab": {
          "base_uri": "https://localhost:8080/"
        },
        "id": "t9F32PRD60Mi",
        "outputId": "d29067ee-eb59-45b3-fc66-e842f333d090"
      },
      "execution_count": 31,
      "outputs": [
        {
          "output_type": "execute_result",
          "data": {
            "text/plain": [
              "['2023_01_18_ASSINADO_do3.pdf',\n",
              " 267,\n",
              " 'REPÚBLICA FEDERATIVA DO BRASIL • IMPRENSA NACIONAL\\nAno CLXI Nº 13 Brasília - DF, quarta-feira, 18 de janeiro de 2023ISSN 1677-7069\\n3\\nDocumento assinado digitalmente conforme MP nº 2.200-2 de 24/08/2001,\\nque institui a Infraestrutura de Chaves Públicas Brasileira - ICP-Brasil.Este documento pode ser verificado no endereço eletrônico\\nhttp://www.in.gov.br/autenticidade.html , pelo código 053020230118000011Presidência da República ................................................................ .......................................... 1\\nMinistério da Agricultura, Pecuária e Abastecimento ............................................................ 2\\nMinistério da Cidadania .......................................................................................................... 11\\nMinistério da Ciência, Tecnologia e Inovações ................................................................\\n..... 12\\nMinistério das Comunicações ................................................................................................. 12\\nMinistério da Defesa ............................................................................................................... 13\\nMinistério do Desenvolvimento Regional ................................................................\\n.............. 30\\nMinistério da Economia .......................................................................................................... 35\\nMinistério da Educação ........................................................................................................... 50\\nMinistério da Infraestrutura ................................................................\\n................................... 93\\nMinistério da Justiça e Segurança Pública ............................................................................ 98\\nMinistério do Meio Ambiente .............................................................................................. 102\\nMinistério de Minas e Energia ............................................................................................. 102\\nMinistério da Mulher, da Família e dos Direitos Humanos ............................................... 105\\nMinistério da Saúde .............................................................................................................. 105\\nMinistério do Trabalho e Previdência .................................................................................. 110\\nMinistério do Turismo ........................................................................................................... 117\\nBanco Central do Brasil ........................................................................................................ 119\\nConselho Nacional do Ministério Público ................................................................\\n............ 120\\nMinistério Público da União ................................................................................................. 120\\nTribunal de Contas da União ............................................................................................... 121\\nDefensoria Pública da União ................................................................ ................................ 122\\nPoder Legislativo ................................................................................................................... 122\\nPoder Judiciário ................................................................\\n..................................................... 123\\nEntidades de Fiscalização do Exercício das Profissões Liberais ......................................... 130\\nIneditoriais ............................................................................................................................. 147\\n.................................. Esta edição é composta de 267 páginas .................................Sumário\\nPresidência da República\\nCASA CIVIL\\nGABINETE DE INTERVENÇÃO FEDERAL NO ESTADO DO RIO DE\\nJA N E I R O\\nEXTRATO DE DOAÇÃO\\nProcesso nº 00144.001106/2023-91 ESPÉCIE: Termo de Doação nº 196/2023, firmado entre\\no GABINETE DE INTERVENÇÃO FEDERAL NO ESTADO DO RIO DE JANEIRO, CNPJ nº\\n30.116.234/0001-60, e a SECRETARIA DE ESTADO DE POLÍCIA CIVIL - SEPOL, CNPJ nº\\n42.498.725/0005-25. OBJETO: Doação de bens adquiridos, visando recupera\\nr a capacidade\\noperativa dos órgãos de segurança pública (OSP) do Estado do Rio de Janeiro (Aeronave\\nAW169 do tipo Helicóptero Biturbina, multitarefas, nova de fábrica, fabricada pela Empresa\\nLeonardo S.p.A. Ano Fab: 2021. Nº Série: 69135, PS-APC, Documentação Técnica,\\nEquipamento de Apoio de Solo e Lista de Aprovisionamento Inicial LAI). VALOR: R$\\n71.978.247,63 (setenta e um milhões novecentos e setenta e oito mil duzento s e quarenta\\ne sete reais e sessenta e três centavos). DATA DA ASSINATURA: 13/01/2023. SIG N AT Á R I O S :\\nPelo GABINETE DE INTERVENÇÃO FEDERAL, o Sr. Ordenador de Despesas do GIFRJ, Sr.\\nJULIANO GIUNCHETTI PELUCIO, CPF nº 251.144.238-86, e pela SECRETARIA DE ESTADO DE\\nPOLÍCIA CIVIL - SEPOL, o Sr. Secretário de Estado de Polícia Civil, Sr. FERNANDO ANTÔNIO\\nPAES DE ANDRADE ALBUQUERQUE, CPF nº 017.904.347-18. Autorizo a publicação\\n:\\nS EC R E T A R I A - G E R A L\\nSECRETARIA ESPECIAL DE ADMINISTRAÇÃO\\nEXTRATO DE INEXIGIBILIDADE DE LICITAÇÃO Nº 1/2023 - UASG 110001\\nNº Processo: 00265000876202269 . Objeto: Contratação de prestação de serviço de\\nhospedagem. Total de Itens Licitados: 00001. Fundamento Legal: Art. 25, Caput da Lei nº\\n8.666 de 21º/06/1993.. Justificativa: Necessidade de implantação de medidas de proteção\\nda autoridade e familiares nas residências oficiais. Declaração de Inexigibilidade em\\n17/01/2023. CAROLINA DE OLIVEIRA CABRAL. Coordenadora-geral de Licitação e Contrato.\\nRatificação em 17/01/2023. FERNANDO PEREIRA FARIA. Diretor de Recursos Logísticos\\nSubstituto. Valor Global: R$ 216.823,95. CNPJ CONTRATADA : 62.413.877/0047-44 MELIA\\nBRASIL ADMINISTRACAO HOTELEIRA E COMERCIAL LTDA..\\n(SIDEC - 17/01/2023) 110001-00001-2023NE110001\\nEXTRATO DE TERMO ADITIVO Nº 4/2023 - UASG 110001\\nNúmero do Contrato: 19/2019.\\nNº Processo: 00230.000565/2018-11.\\nDispensa. Nº 67/2018. Contratante: SECRETARIA ESPECIAL DE ADMINISTRACAO /PR.\\nContratado: 50.429.810/0001-36 - SAPRA LANDAUER SERVICO DE ASSESSORIA E PR OT EC AO\\nRADIOLO. Objeto: Prorrogação do prazo de vigência contratual. Vigência: 1\\n8/02/2023 a\\n18/02/2024. Valor Total Atualizado do Contrato: R$ 2.419,20. Data de Assinatura:\\n16/01/2023.\\n(COMPRASNET 4.0 - 16/01/2023).\\nDIRETORIA DE RECURSOS LOGÍSTICOS\\nEXTRATO DE REGISTRO DE PREÇOS\\nPROCESSO Nº 00094.002011/2022-46; PREGÃO SRP Nº: 77/2022. OBJETO: Registro de\\npreços com vistas à aquisição de cartuchos de toner e tinta. ATAS DE REGISTRO DE\\nPREÇOS Nºs. 1 e 2/2022. VIGÊNCIA: 13/01/2023 a 13/01/2024. DATA DE ASSINATU\\nRA:\\n13/01/2023. PARTES SIGNATÁRIAS: Secretaria de Administração da Presidência da\\nRepública, CNPJ nº 00.394.411/0001-09, e as empresas: 3S INFORMÁTICA LTDA, CNPJ nº\\n32.674.351/0001-74; itens 01, 02 e 03, no valor total de R$ 25.200,00; RS MIDIA\\nSUPRIMENTOS DE INFORMÁTICA LTDA, CNPJ nº 13.383.196/0001-92, item 04, no valor\\ntotal de R$ 11.800,00ADVOCACIA-GERAL DA UNIÃO\\nEXTRATO DE TERMO ADITIVO\\n2º TERMO ADITIVO AO ACORDO DE COOPERAÇÃO TÉCNICA PRELIMINAR Nº 16/2020\\nPROCESSO ADMINISTRATIVO Nº: 00400.001541/2020-02. ESPÉCIE: 2º Termo Aditivo ao\\nAcordo de Cooperação Técnica Preliminar nº 16/2020 que entre si celebram a A\\nDV O C AC I A -\\nGERAL DA UNIÃO e a PROCURADORIA-GERAL DO MUNICÍPIO DE SALVADOR - BA. OBJETO:\\nProrrogar a vigência do Acordo de Cooperação Técnica Preliminar que estabelece regras de\\npermissão temporária de acesso ao código fonte do Sistema Único de Procurad\\norias\\nPúblicas - SUPP. VIGÊNCIA: 12 (doze) meses, contemplando todo o interstício existente\\npara o ano de 2022, permanecendo em vigor até a data de 31 de dezembro de 2023. D AT A\\nDA ASSINATURA: 13/10/2022. PARTES: ADVOCACIA-GERAL DA UNIÃO, representada pelo\\nAdvogado-Geral da União Substituto, ADLER ANAXIMANDRO DA CRUZ E ALVES, e a\\nPROCURADORIA-GERAL DO MUNICÍPIO DE SALVADOR - BA, representada pela sua\\nProcuradora-Geral, LUCIANA RODRIGUES VIEIRA LOPES.\\nEXTRATO DE TERMO ADITIVO\\n2º TERMO ADITIVO AO ACORDO DE COOPERAÇÃO TÉCNICA PRELIMINAR Nº 6/2020\\nPROCESSO ADMINISTRATIVO Nº: 00400.001541/2020-02. ESPÉCIE: 2º Termo Aditivo ao\\nAcordo de Cooperação Técnica Preliminar nº 006/2020 que entre si celebram A\\nDV O C AC I A -\\nGERAL DA UNIÃO e a PROCURADORIA-GERAL DO MUNICÍPIO DE BOA VISTA - RR. OBJETO:\\nProrrogar a vigência do Acordo de Cooperação Técnica Preliminar que estabelece regras de\\npermissão temporária de acesso ao código fonte do Sistema Único de Procurad\\norias\\nPúblicas - SUPP. VIGÊNCIA: 12 (doze) meses, contemplando todo o interstício existente\\npara o ano de 2022, permanecendo em vigor até a data de 31 de dezembro de 2023. D AT A\\nDA ASSINATURA: 14/10/2022. PARTES: ADVOCACIA-GERAL DA UNIÃO, representada pelo\\nAdvogado-Geral da União Substituto, ADLER ANAXIMANDRO DA CRUZ E ALVES, e a\\nPROCURADORIA-GERAL DO MUNICÍPIO DE BOA VISTA - RR, representada pela sua\\nProcuradora-Geral, MARCELA MEDEIROS QUEIROZ FRANCO.\\nEXTRATO DE TERMO ADITIVO\\n2º TERMO ADITIVO AO ACORDO DE COOPERAÇÃO TÉCNICA PRELIMINAR Nº 1/2020\\nPROCESSO ADMINISTRATIVO Nº: 00400.000028/2021-77. ESPÉCIE: 2º Termo Aditivo ao\\nAcordo de Cooperação Técnica Preliminar nº 1/2020 que entre si celebram a AD V O C AC I A -\\nGERAL DA UNIÃO e a PROCURADORIA-GERAL DO MUNICÍPIO DE SÃO PAULO - SP. OBJETO:\\nProrrogar a vigência do Acordo de Cooperação Técnica Preliminar que estabe lece regras de\\npermissão temporária de acesso ao código fonte do Sistema Único de Procuradorias\\nPúblicas - SUPP. VIGÊNCIA: 12 (doze) meses, contemplando todo o interstício existente\\npara o ano de 2022, permanecendo em vigor até a data de 31 de dezembro de 2023. D AT A\\nDA ASSINATURA: 24/10/2022. PARTES: ADVOCACIA-GERAL DA UNIÃO, representada pelo\\nAdvogado-Geral da União Substituto, ADLER ANAXIMANDRO DA CRUZ E ALVES, e a\\nPROCURADORIA-GERAL DO MUNICÍPIO DE SÃO PAULO, representada pela sua Procu\\nradora-\\nGeral, MARINA MAGRO BERINGHS MARTINEZ.\\nEXTRATO DE TERMO ADITIVO\\n2º TERMO ADITIVO AO ACORDO DE COOPERAÇÃO TÉCNICA PRELIMINAR Nº 13/2020\\nPROCESSO ADMINISTRATIVO Nº: 00400.001541/2020-02. ESPÉCIE: 2º Termo Aditivo ao\\nAcordo de Cooperação Técnica Preliminar nº 013/2020 que entre si celebram A\\nDV O C AC I A -\\nGERAL DA UNIÃO e a PROCURADORIA-GERAL DO MUNICÍPIO DE PORTO ALEGRE - RS.\\nOBJETO: Prorrogar a vigência do Acordo de Cooperação Técnica Preliminar que estabelece\\nregras de permissão temporária de acesso ao código fonte do Sistema Único de\\nProcuradorias Públicas - SUPP. VIGÊNCIA: 12 (doze) meses, contemplando to do o interstício\\nexistente para o ano de 2022, permanecendo em vigor até a data de 31 de dezembro de\\n2023. DATA DA ASSINATURA: 11/10/2022. PARTES: ADVOCACIA-GERAL DA UNIÃO,\\nrepresentada pelo Advogado-Geral da União Substituto, ADLER ANAXIMANDRO DA CRUZ E\\nALVES, e a PROCURADORIA-GERAL DO MUNICÍPIO DE PORTO ALEGRE - RS, representada\\npelo seu Procurador-Geral, ROBERTO SILVA DA ROCHA.\\nEXTRATO DE TERMO ADITIVO\\n2º TERMO ADITIVO AO ACORDO DE COOPERAÇÃO TÉCNICA PRELIMINAR Nº 5/2020\\nPROCESSO ADMINISTRATIVO Nº: 00400.001541/2020-02. ESPÉCIE: 2º Termo Aditivo ao\\nAcordo de Cooperação Técnica Preliminar nº 05/2020 que entre si celebram AD V O C AC I A -\\nGERAL DA UNIÃO e a PROCURADORIA-GERAL DO MUNICÍPIO DE BELÉM - PA. OBJETO:\\nProrrogar a vigência do Acordo de Cooperação Técnica Preliminar que estabelece regras de\\npermissão temporária de acesso ao código fonte do Sistema Único de Procurad\\norias\\nPúblicas - SUPP. VIGÊNCIA: 12 (doze) meses, contemplando todo o interstício existente\\npara o ano de 2022, permanecendo em vigor até a data de 31 de dezembro de 2023. D AT A\\nDA ASSINATURA: 06/10/2022. PARTES: ADVOCACIA-GERAL DA UNIÃO, representada pelo\\nAdvogado-Geral da União Substituto, ADLER ANAXIMANDRO DA CRUZ E ALVES, e a\\nPROCURADORIA-GERAL DO MUNICÍPIO DE BELÉM - PA, representada pelo seu Procu\\nrador-\\nGeral, JOSÉ ALBERTO SOARES VASCONCELOS.\\nEXTRATO DE TERMO ADITIVO\\n2º TERMO ADITIVO AO ACORDO DE COOPERAÇÃO TÉCNICA PRELIMINAR Nº 4/2020\\nPROCESSO ADMINISTRATIVO Nº: 00400.001541/2020-02. ESPÉCIE: 2º Termo Aditivo ao\\nAcordo de Cooperação Técnica Preliminar nº 004/2020 que entre si celebram\\nADVOCACIA-GERAL DA UNIÃO e a PROCURADORIA-GERAL DO MUNICÍPIO DE BELO\\nHORIZONTE - MG. OBJETO: Prorrogar a vigência do Acordo de Cooperação Técnic a\\nPreliminar que estabelece regras de permissão temporária de acesso ao código fonte\\ndo Sistema Único de Procuradorias Públicas - SUPP. VIGÊNCIA: 12 (doze) meses,\\ncontemplando todo o interstício existente para o ano de 2022, permanecendo em vigor\\naté a data de 31 de dezembro de 2023. DATA DA ASSINATURA: 11/10/2022. PARTES:\\nADVOCACIA-GERAL DA UNIÃO, representada pelo Advogado-Geral da União Substituto,\\nADLER ANAXIMANDRO DA CRUZ E ALVES, e a PROCURADORIA-GERAL DO MUNICÍPIO DE\\nBELO HORIZONTE - MG, representada pelo seu Procurador-Geral, HÉRCULES GUERRA .REPÚBLICA FEDERATIVA DO BRASIL • IMPRENSA NACIONAL Ano CLXI Nº 13 Brasília - DF, quarta-feira, 18 de janeiro de 2023ISSN 1677-7069 3 Documento assinado digitalmente conforme MP nº 2.200-2 de 24/08/2001, que institui a Infraestrutura de Chaves Públicas Brasileira - ICP-Brasil.Este documento pode ser verificado no endereço eletrônico http://www.in.gov.br/autenticidade.html , pelo código 053020230118000011Presidência da República ................................................................ .......................................... 1 Ministério da Agricultura, Pecuária e Abastecimento ............................................................ 2 Ministério da Cidadania .......................................................................................................... 11 Ministério da Ciência, Tecnologia e Inovações ................................................................ ..... 12 Ministério das Comunicações ................................................................................................. 12 Ministério da Defesa ............................................................................................................... 13 Ministério do Desenvolvimento Regional ................................................................ .............. 30 Ministério da Economia .......................................................................................................... 35 Ministério da Educação ........................................................................................................... 50 Ministério da Infraestrutura ................................................................ ................................... 93 Ministério da Justiça e Segurança Pública ............................................................................ 98 Ministério do Meio Ambiente .............................................................................................. 102 Ministério de Minas e Energia ............................................................................................. 102 Ministério da Mulher, da Família e dos Direitos Humanos ............................................... 105 Ministério da Saúde .............................................................................................................. 105 Ministério do Trabalho e Previdência .................................................................................. 110 Ministério do Turismo ........................................................................................................... 117 Banco Central do Brasil ........................................................................................................ 119 Conselho Nacional do Ministério Público ................................................................ ............ 120 Ministério Público da União ................................................................................................. 120 Tribunal de Contas da União ............................................................................................... 121 Defensoria Pública da União ................................................................ ................................ 122 Poder Legislativo ................................................................................................................... 122 Poder Judiciário ................................................................ ..................................................... 123 Entidades de Fiscalização do Exercício das Profissões Liberais ......................................... 130 Ineditoriais ............................................................................................................................. 147 .................................. Esta edição é composta de 267 páginas .................................Sumário Presidência da República CASA CIVIL GABINETE DE INTERVENÇÃO FEDERAL NO ESTADO DO RIO DE JA N E I R O EXTRATO DE DOAÇÃO Processo nº 00144.001106/2023-91 ESPÉCIE: Termo de Doação nº 196/2023, firmado entre o GABINETE DE INTERVENÇÃO FEDERAL NO ESTADO DO RIO DE JANEIRO, CNPJ nº 30.116.234/0001-60, e a SECRETARIA DE ESTADO DE POLÍCIA CIVIL - SEPOL, CNPJ nº 42.498.725/0005-25. OBJETO: Doação de bens adquiridos, visando recupera r a capacidade operativa dos órgãos de segurança pública (OSP) do Estado do Rio de Janeiro (Aeronave AW169 do tipo Helicóptero Biturbina, multitarefas, nova de fábrica, fabricada pela Empresa Leonardo S.p.A. Ano Fab: 2021. Nº Série: 69135, PS-APC, Documentação Técnica, Equipamento de Apoio de Solo e Lista de Aprovisionamento Inicial LAI). VALOR: R$ 71.978.247,63 (setenta e um milhões novecentos e setenta e oito mil duzento s e quarenta e sete reais e sessenta e três centavos). DATA DA ASSINATURA: 13/01/2023. SIG N AT Á R I O S : Pelo GABINETE DE INTERVENÇÃO FEDERAL, o Sr. Ordenador de Despesas do GIFRJ, Sr. JULIANO GIUNCHETTI PELUCIO, CPF nº 251.144.238-86, e pela SECRETARIA DE ESTADO DE POLÍCIA CIVIL - SEPOL, o Sr. Secretário de Estado de Polícia Civil, Sr. FERNANDO ANTÔNIO PAES DE ANDRADE ALBUQUERQUE, CPF nº 017.904.347-18. Autorizo a publicação : S EC R E T A R I A - G E R A L SECRETARIA ESPECIAL DE ADMINISTRAÇÃO EXTRATO DE INEXIGIBILIDADE DE LICITAÇÃO Nº 1/2023 - UASG 110001 Nº Processo: 00265000876202269 . Objeto: Contratação de prestação de serviço de hospedagem. Total de Itens Licitados: 00001. Fundamento Legal: Art. 25, Caput da Lei nº 8.666 de 21º/06/1993.. Justificativa: Necessidade de implantação de medidas de proteção da autoridade e familiares nas residências oficiais. Declaração de Inexigibilidade em 17/01/2023. CAROLINA DE OLIVEIRA CABRAL. Coordenadora-geral de Licitação e Contrato. Ratificação em 17/01/2023. FERNANDO PEREIRA FARIA. Diretor de Recursos Logísticos Substituto. Valor Global: R$ 216.823,95. CNPJ CONTRATADA : 62.413.877/0047-44 MELIA BRASIL ADMINISTRACAO HOTELEIRA E COMERCIAL LTDA.. (SIDEC - 17/01/2023) 110001-00001-2023NE110001 EXTRATO DE TERMO ADITIVO Nº 4/2023 - UASG 110001 Número do Contrato: 19/2019. Nº Processo: 00230.000565/2018-11. Dispensa. Nº 67/2018. Contratante: SECRETARIA ESPECIAL DE ADMINISTRACAO /PR. Contratado: 50.429.810/0001-36 - SAPRA LANDAUER SERVICO DE ASSESSORIA E PR OT EC AO RADIOLO. Objeto: Prorrogação do prazo de vigência contratual. Vigência: 1 8/02/2023 a 18/02/2024. Valor Total Atualizado do Contrato: R$ 2.419,20. Data de Assinatura: 16/01/2023. (COMPRASNET 4.0 - 16/01/2023). DIRETORIA DE RECURSOS LOGÍSTICOS EXTRATO DE REGISTRO DE PREÇOS PROCESSO Nº 00094.002011/2022-46; PREGÃO SRP Nº: 77/2022. OBJETO: Registro de preços com vistas à aquisição de cartuchos de toner e tinta. ATAS DE REGISTRO DE PREÇOS Nºs. 1 e 2/2022. VIGÊNCIA: 13/01/2023 a 13/01/2024. DATA DE ASSINATU RA: 13/01/2023. PARTES SIGNATÁRIAS: Secretaria de Administração da Presidência da República, CNPJ nº 00.394.411/0001-09, e as empresas: 3S INFORMÁTICA LTDA, CNPJ nº 32.674.351/0001-74; itens 01, 02 e 03, no valor total de R$ 25.200,00; RS MIDIA SUPRIMENTOS DE INFORMÁTICA LTDA, CNPJ nº 13.383.196/0001-92, item 04, no valor total de R$ 11.800,00ADVOCACIA-GERAL DA UNIÃO EXTRATO DE TERMO ADITIVO 2º TERMO ADITIVO AO ACORDO DE COOPERAÇÃO TÉCNICA PRELIMINAR Nº 16/2020 PROCESSO ADMINISTRATIVO Nº: 00400.001541/2020-02. ESPÉCIE: 2º Termo Aditivo ao Acordo de Cooperação Técnica Preliminar nº 16/2020 que entre si celebram a A DV O C AC I A - GERAL DA UNIÃO e a PROCURADORIA-GERAL DO MUNICÍPIO DE SALVADOR - BA. OBJETO: Prorrogar a vigência do Acordo de Cooperação Técnica Preliminar que estabelece regras de permissão temporária de acesso ao código fonte do Sistema Único de Procurad orias Públicas - SUPP. VIGÊNCIA: 12 (doze) meses, contemplando todo o interstício existente para o ano de 2022, permanecendo em vigor até a data de 31 de dezembro de 2023. D AT A DA ASSINATURA: 13/10/2022. PARTES: ADVOCACIA-GERAL DA UNIÃO, representada pelo Advogado-Geral da União Substituto, ADLER ANAXIMANDRO DA CRUZ E ALVES, e a PROCURADORIA-GERAL DO MUNICÍPIO DE SALVADOR - BA, representada pela sua Procuradora-Geral, LUCIANA RODRIGUES VIEIRA LOPES. EXTRATO DE TERMO ADITIVO 2º TERMO ADITIVO AO ACORDO DE COOPERAÇÃO TÉCNICA PRELIMINAR Nº 6/2020 PROCESSO ADMINISTRATIVO Nº: 00400.001541/2020-02. ESPÉCIE: 2º Termo Aditivo ao Acordo de Cooperação Técnica Preliminar nº 006/2020 que entre si celebram A DV O C AC I A - GERAL DA UNIÃO e a PROCURADORIA-GERAL DO MUNICÍPIO DE BOA VISTA - RR. OBJETO: Prorrogar a vigência do Acordo de Cooperação Técnica Preliminar que estabelece regras de permissão temporária de acesso ao código fonte do Sistema Único de Procurad orias Públicas - SUPP. VIGÊNCIA: 12 (doze) meses, contemplando todo o interstício existente para o ano de 2022, permanecendo em vigor até a data de 31 de dezembro de 2023. D AT A DA ASSINATURA: 14/10/2022. PARTES: ADVOCACIA-GERAL DA UNIÃO, representada pelo Advogado-Geral da União Substituto, ADLER ANAXIMANDRO DA CRUZ E ALVES, e a PROCURADORIA-GERAL DO MUNICÍPIO DE BOA VISTA - RR, representada pela sua Procuradora-Geral, MARCELA MEDEIROS QUEIROZ FRANCO. EXTRATO DE TERMO ADITIVO 2º TERMO ADITIVO AO ACORDO DE COOPERAÇÃO TÉCNICA PRELIMINAR Nº 1/2020 PROCESSO ADMINISTRATIVO Nº: 00400.000028/2021-77. ESPÉCIE: 2º Termo Aditivo ao Acordo de Cooperação Técnica Preliminar nº 1/2020 que entre si celebram a AD V O C AC I A - GERAL DA UNIÃO e a PROCURADORIA-GERAL DO MUNICÍPIO DE SÃO PAULO - SP. OBJETO: Prorrogar a vigência do Acordo de Cooperação Técnica Preliminar que estabe lece regras de permissão temporária de acesso ao código fonte do Sistema Único de Procuradorias Públicas - SUPP. VIGÊNCIA: 12 (doze) meses, contemplando todo o interstício existente para o ano de 2022, permanecendo em vigor até a data de 31 de dezembro de 2023. D AT A DA ASSINATURA: 24/10/2022. PARTES: ADVOCACIA-GERAL DA UNIÃO, representada pelo Advogado-Geral da União Substituto, ADLER ANAXIMANDRO DA CRUZ E ALVES, e a PROCURADORIA-GERAL DO MUNICÍPIO DE SÃO PAULO, representada pela sua Procu radora- Geral, MARINA MAGRO BERINGHS MARTINEZ. EXTRATO DE TERMO ADITIVO 2º TERMO ADITIVO AO ACORDO DE COOPERAÇÃO TÉCNICA PRELIMINAR Nº 13/2020 PROCESSO ADMINISTRATIVO Nº: 00400.001541/2020-02. ESPÉCIE: 2º Termo Aditivo ao Acordo de Cooperação Técnica Preliminar nº 013/2020 que entre si celebram A DV O C AC I A - GERAL DA UNIÃO e a PROCURADORIA-GERAL DO MUNICÍPIO DE PORTO ALEGRE - RS. OBJETO: Prorrogar a vigência do Acordo de Cooperação Técnica Preliminar que estabelece regras de permissão temporária de acesso ao código fonte do Sistema Único de Procuradorias Públicas - SUPP. VIGÊNCIA: 12 (doze) meses, contemplando to do o interstício existente para o ano de 2022, permanecendo em vigor até a data de 31 de dezembro de 2023. DATA DA ASSINATURA: 11/10/2022. PARTES: ADVOCACIA-GERAL DA UNIÃO, representada pelo Advogado-Geral da União Substituto, ADLER ANAXIMANDRO DA CRUZ E ALVES, e a PROCURADORIA-GERAL DO MUNICÍPIO DE PORTO ALEGRE - RS, representada pelo seu Procurador-Geral, ROBERTO SILVA DA ROCHA. EXTRATO DE TERMO ADITIVO 2º TERMO ADITIVO AO ACORDO DE COOPERAÇÃO TÉCNICA PRELIMINAR Nº 5/2020 PROCESSO ADMINISTRATIVO Nº: 00400.001541/2020-02. ESPÉCIE: 2º Termo Aditivo ao Acordo de Cooperação Técnica Preliminar nº 05/2020 que entre si celebram AD V O C AC I A - GERAL DA UNIÃO e a PROCURADORIA-GERAL DO MUNICÍPIO DE BELÉM - PA. OBJETO: Prorrogar a vigência do Acordo de Cooperação Técnica Preliminar que estabelece regras de permissão temporária de acesso ao código fonte do Sistema Único de Procurad orias Públicas - SUPP. VIGÊNCIA: 12 (doze) meses, contemplando todo o interstício existente para o ano de 2022, permanecendo em vigor até a data de 31 de dezembro de 2023. D AT A DA ASSINATURA: 06/10/2022. PARTES: ADVOCACIA-GERAL DA UNIÃO, representada pelo Advogado-Geral da União Substituto, ADLER ANAXIMANDRO DA CRUZ E ALVES, e a PROCURADORIA-GERAL DO MUNICÍPIO DE BELÉM - PA, representada pelo seu Procu rador- Geral, JOSÉ ALBERTO SOARES VASCONCELOS. EXTRATO DE TERMO ADITIVO 2º TERMO ADITIVO AO ACORDO DE COOPERAÇÃO TÉCNICA PRELIMINAR Nº 4/2020 PROCESSO ADMINISTRATIVO Nº: 00400.001541/2020-02. ESPÉCIE: 2º Termo Aditivo ao Acordo de Cooperação Técnica Preliminar nº 004/2020 que entre si celebram ADVOCACIA-GERAL DA UNIÃO e a PROCURADORIA-GERAL DO MUNICÍPIO DE BELO HORIZONTE - MG. OBJETO: Prorrogar a vigência do Acordo de Cooperação Técnic a Preliminar que estabelece regras de permissão temporária de acesso ao código fonte do Sistema Único de Procuradorias Públicas - SUPP. VIGÊNCIA: 12 (doze) meses, contemplando todo o interstício existente para o ano de 2022, permanecendo em vigor até a data de 31 de dezembro de 2023. DATA DA ASSINATURA: 11/10/2022. PARTES: ADVOCACIA-GERAL DA UNIÃO, representada pelo Advogado-Geral da União Substituto, ADLER ANAXIMANDRO DA CRUZ E ALVES, e a PROCURADORIA-GERAL DO MUNICÍPIO DE BELO HORIZONTE - MG, representada pelo seu Procurador-Geral, HÉRCULES GUERRA .']"
            ]
          },
          "metadata": {},
          "execution_count": 31
        }
      ]
    },
    {
      "cell_type": "code",
      "source": [
        "for pg in FILES:\n",
        "  for p in range(0, pg[2]):\n",
        "    print(....)"
      ],
      "metadata": {
        "id": "FitiS1GniRcq"
      },
      "execution_count": null,
      "outputs": []
    },
    {
      "cell_type": "code",
      "source": [
        "\n",
        "for pg in FILES:\n",
        "  pgs = len(file.pages)\n",
        "  text=''\n",
        "  for p in range(0,pg[1]):\n",
        "    # creating a page object\n",
        "    pageObject = file.pages[p]\n",
        "    # extracting text from page\n",
        "    text += pageObject.extract_text()\n",
        "    break\n",
        "  lines = [[p, x, y] for  x, y in enumerate(text.split(\"\\n\"))]\n",
        "\n",
        "\n",
        "lines = pd.DataFrame([x for x in lines])\n",
        "lines.columns = [\"pg_num\", \"enum\", \"line\"]\n",
        "\n",
        "display(lines)"
      ],
      "metadata": {
        "colab": {
          "base_uri": "https://localhost:8080/",
          "height": 424
        },
        "id": "z2vvVT2FE_Eo",
        "outputId": "7f2a24eb-8d67-46cc-c5d7-8b27a2420f57"
      },
      "execution_count": null,
      "outputs": [
        {
          "output_type": "display_data",
          "data": {
            "text/plain": [
              "     pg_num  enum                                               line\n",
              "0         0     0  REPÚBLICA FEDERATIVA DO BRASIL • IMPRENSA NACI...\n",
              "1         0     1  Ano CLXI Nº 12 Brasília - DF, terça-feira, 17 ...\n",
              "2         0     2                                                  3\n",
              "3         0     3  Documento assinado digitalmente conforme MP nº...\n",
              "4         0     4  que institui a Infraestrutura de Chaves Públic...\n",
              "..      ...   ...                                                ...\n",
              "135       0   135  novecentos e dezenoce reais). O processo se en...\n",
              "136       0   136                                                 s.\n",
              "137       0   137                           RODRIGO DO CANTO CARDOSO\n",
              "138       0   138                                          Pregoeiro\n",
              "139       0   139                               (SIDEC - 16/01/2023)\n",
              "\n",
              "[140 rows x 3 columns]"
            ],
            "text/html": [
              "\n",
              "  <div id=\"df-5a74ea77-a5ab-49c7-90dc-367e6b35c032\">\n",
              "    <div class=\"colab-df-container\">\n",
              "      <div>\n",
              "<style scoped>\n",
              "    .dataframe tbody tr th:only-of-type {\n",
              "        vertical-align: middle;\n",
              "    }\n",
              "\n",
              "    .dataframe tbody tr th {\n",
              "        vertical-align: top;\n",
              "    }\n",
              "\n",
              "    .dataframe thead th {\n",
              "        text-align: right;\n",
              "    }\n",
              "</style>\n",
              "<table border=\"1\" class=\"dataframe\">\n",
              "  <thead>\n",
              "    <tr style=\"text-align: right;\">\n",
              "      <th></th>\n",
              "      <th>pg_num</th>\n",
              "      <th>enum</th>\n",
              "      <th>line</th>\n",
              "    </tr>\n",
              "  </thead>\n",
              "  <tbody>\n",
              "    <tr>\n",
              "      <th>0</th>\n",
              "      <td>0</td>\n",
              "      <td>0</td>\n",
              "      <td>REPÚBLICA FEDERATIVA DO BRASIL • IMPRENSA NACI...</td>\n",
              "    </tr>\n",
              "    <tr>\n",
              "      <th>1</th>\n",
              "      <td>0</td>\n",
              "      <td>1</td>\n",
              "      <td>Ano CLXI Nº 12 Brasília - DF, terça-feira, 17 ...</td>\n",
              "    </tr>\n",
              "    <tr>\n",
              "      <th>2</th>\n",
              "      <td>0</td>\n",
              "      <td>2</td>\n",
              "      <td>3</td>\n",
              "    </tr>\n",
              "    <tr>\n",
              "      <th>3</th>\n",
              "      <td>0</td>\n",
              "      <td>3</td>\n",
              "      <td>Documento assinado digitalmente conforme MP nº...</td>\n",
              "    </tr>\n",
              "    <tr>\n",
              "      <th>4</th>\n",
              "      <td>0</td>\n",
              "      <td>4</td>\n",
              "      <td>que institui a Infraestrutura de Chaves Públic...</td>\n",
              "    </tr>\n",
              "    <tr>\n",
              "      <th>...</th>\n",
              "      <td>...</td>\n",
              "      <td>...</td>\n",
              "      <td>...</td>\n",
              "    </tr>\n",
              "    <tr>\n",
              "      <th>135</th>\n",
              "      <td>0</td>\n",
              "      <td>135</td>\n",
              "      <td>novecentos e dezenoce reais). O processo se en...</td>\n",
              "    </tr>\n",
              "    <tr>\n",
              "      <th>136</th>\n",
              "      <td>0</td>\n",
              "      <td>136</td>\n",
              "      <td>s.</td>\n",
              "    </tr>\n",
              "    <tr>\n",
              "      <th>137</th>\n",
              "      <td>0</td>\n",
              "      <td>137</td>\n",
              "      <td>RODRIGO DO CANTO CARDOSO</td>\n",
              "    </tr>\n",
              "    <tr>\n",
              "      <th>138</th>\n",
              "      <td>0</td>\n",
              "      <td>138</td>\n",
              "      <td>Pregoeiro</td>\n",
              "    </tr>\n",
              "    <tr>\n",
              "      <th>139</th>\n",
              "      <td>0</td>\n",
              "      <td>139</td>\n",
              "      <td>(SIDEC - 16/01/2023)</td>\n",
              "    </tr>\n",
              "  </tbody>\n",
              "</table>\n",
              "<p>140 rows × 3 columns</p>\n",
              "</div>\n",
              "      <button class=\"colab-df-convert\" onclick=\"convertToInteractive('df-5a74ea77-a5ab-49c7-90dc-367e6b35c032')\"\n",
              "              title=\"Convert this dataframe to an interactive table.\"\n",
              "              style=\"display:none;\">\n",
              "        \n",
              "  <svg xmlns=\"http://www.w3.org/2000/svg\" height=\"24px\"viewBox=\"0 0 24 24\"\n",
              "       width=\"24px\">\n",
              "    <path d=\"M0 0h24v24H0V0z\" fill=\"none\"/>\n",
              "    <path d=\"M18.56 5.44l.94 2.06.94-2.06 2.06-.94-2.06-.94-.94-2.06-.94 2.06-2.06.94zm-11 1L8.5 8.5l.94-2.06 2.06-.94-2.06-.94L8.5 2.5l-.94 2.06-2.06.94zm10 10l.94 2.06.94-2.06 2.06-.94-2.06-.94-.94-2.06-.94 2.06-2.06.94z\"/><path d=\"M17.41 7.96l-1.37-1.37c-.4-.4-.92-.59-1.43-.59-.52 0-1.04.2-1.43.59L10.3 9.45l-7.72 7.72c-.78.78-.78 2.05 0 2.83L4 21.41c.39.39.9.59 1.41.59.51 0 1.02-.2 1.41-.59l7.78-7.78 2.81-2.81c.8-.78.8-2.07 0-2.86zM5.41 20L4 18.59l7.72-7.72 1.47 1.35L5.41 20z\"/>\n",
              "  </svg>\n",
              "      </button>\n",
              "      \n",
              "  <style>\n",
              "    .colab-df-container {\n",
              "      display:flex;\n",
              "      flex-wrap:wrap;\n",
              "      gap: 12px;\n",
              "    }\n",
              "\n",
              "    .colab-df-convert {\n",
              "      background-color: #E8F0FE;\n",
              "      border: none;\n",
              "      border-radius: 50%;\n",
              "      cursor: pointer;\n",
              "      display: none;\n",
              "      fill: #1967D2;\n",
              "      height: 32px;\n",
              "      padding: 0 0 0 0;\n",
              "      width: 32px;\n",
              "    }\n",
              "\n",
              "    .colab-df-convert:hover {\n",
              "      background-color: #E2EBFA;\n",
              "      box-shadow: 0px 1px 2px rgba(60, 64, 67, 0.3), 0px 1px 3px 1px rgba(60, 64, 67, 0.15);\n",
              "      fill: #174EA6;\n",
              "    }\n",
              "\n",
              "    [theme=dark] .colab-df-convert {\n",
              "      background-color: #3B4455;\n",
              "      fill: #D2E3FC;\n",
              "    }\n",
              "\n",
              "    [theme=dark] .colab-df-convert:hover {\n",
              "      background-color: #434B5C;\n",
              "      box-shadow: 0px 1px 3px 1px rgba(0, 0, 0, 0.15);\n",
              "      filter: drop-shadow(0px 1px 2px rgba(0, 0, 0, 0.3));\n",
              "      fill: #FFFFFF;\n",
              "    }\n",
              "  </style>\n",
              "\n",
              "      <script>\n",
              "        const buttonEl =\n",
              "          document.querySelector('#df-5a74ea77-a5ab-49c7-90dc-367e6b35c032 button.colab-df-convert');\n",
              "        buttonEl.style.display =\n",
              "          google.colab.kernel.accessAllowed ? 'block' : 'none';\n",
              "\n",
              "        async function convertToInteractive(key) {\n",
              "          const element = document.querySelector('#df-5a74ea77-a5ab-49c7-90dc-367e6b35c032');\n",
              "          const dataTable =\n",
              "            await google.colab.kernel.invokeFunction('convertToInteractive',\n",
              "                                                     [key], {});\n",
              "          if (!dataTable) return;\n",
              "\n",
              "          const docLinkHtml = 'Like what you see? Visit the ' +\n",
              "            '<a target=\"_blank\" href=https://colab.research.google.com/notebooks/data_table.ipynb>data table notebook</a>'\n",
              "            + ' to learn more about interactive tables.';\n",
              "          element.innerHTML = '';\n",
              "          dataTable['output_type'] = 'display_data';\n",
              "          await google.colab.output.renderOutput(dataTable, element);\n",
              "          const docLink = document.createElement('div');\n",
              "          docLink.innerHTML = docLinkHtml;\n",
              "          element.appendChild(docLink);\n",
              "        }\n",
              "      </script>\n",
              "    </div>\n",
              "  </div>\n",
              "  "
            ]
          },
          "metadata": {}
        }
      ]
    },
    {
      "cell_type": "code",
      "source": [
        "from pyspark.sql import SparkSession\n",
        "\n",
        "spark = SparkSession.builder \\\n",
        "    .master('local[*]') \\\n",
        "    .appName(\"my_app\") \\\n",
        "    .getOrCreate()"
      ],
      "metadata": {
        "id": "1SjPh5QU8TuB"
      },
      "execution_count": null,
      "outputs": []
    },
    {
      "cell_type": "code",
      "source": [
        "data = spark.createDataFrame(lines)\n",
        "data.show(10)"
      ],
      "metadata": {
        "colab": {
          "base_uri": "https://localhost:8080/"
        },
        "id": "wp7fJZ1c8XFy",
        "outputId": "cf24dae9-f0d3-4ec1-ebb3-9eb445230480"
      },
      "execution_count": null,
      "outputs": [
        {
          "output_type": "stream",
          "name": "stdout",
          "text": [
            "+------+----+--------------------+\n",
            "|pg_num|enum|                line|\n",
            "+------+----+--------------------+\n",
            "|     0|   0|REPÚBLICA FEDERAT...|\n",
            "|     0|   1|Ano CLXI Nº 12 Br...|\n",
            "|     0|   2|                   3|\n",
            "|     0|   3|Documento assinad...|\n",
            "|     0|   4|que institui a In...|\n",
            "|     0|   5|http://www.in.gov...|\n",
            "|     0|   6|Ministério da Agr...|\n",
            "|     0|   7|Ministério da Cid...|\n",
            "|     0|   8|Ministério da Ciê...|\n",
            "|     0|   9|           ....... 9|\n",
            "+------+----+--------------------+\n",
            "only showing top 10 rows\n",
            "\n"
          ]
        }
      ]
    },
    {
      "cell_type": "code",
      "source": [
        "import string\n",
        "from string import punctuation\n",
        "import pyspark.sql.functions as F\n",
        "\n",
        "data = data.withColumn(\"texto_regex\", F.regexp_replace(\"line\", \"[\\$#,\\\"!%&'()*+-./:;<=>?@^_`´{|}~\\\\\\\\]\", \"\"))\n",
        "data = data.withColumn(\"texto_trim\", F.trim(data.texto_regex))\n",
        "data.show(10, False)"
      ],
      "metadata": {
        "colab": {
          "base_uri": "https://localhost:8080/"
        },
        "id": "gBRpi36E8n0B",
        "outputId": "ddbef12d-d876-466e-b967-d6bc3cdc0062"
      },
      "execution_count": null,
      "outputs": [
        {
          "output_type": "stream",
          "name": "stdout",
          "text": [
            "+------+----+--------------------------------------------------------------------------------------------------------------------------------------------------------------------------------------------------------------+-------------------------------------------------------------------------------------------------------------------------------+-------------------------------------------------------------------------------------------------------------------------------+\n",
            "|pg_num|enum|line                                                                                                                                                                                                          |texto_regex                                                                                                                    |texto_trim                                                                                                                     |\n",
            "+------+----+--------------------------------------------------------------------------------------------------------------------------------------------------------------------------------------------------------------+-------------------------------------------------------------------------------------------------------------------------------+-------------------------------------------------------------------------------------------------------------------------------+\n",
            "|0     |0   |REPÚBLICA FEDERATIVA DO BRASIL • IMPRENSA NACIONAL                                                                                                                                                            |REPÚBLICA FEDERATIVA DO BRASIL • IMPRENSA NACIONAL                                                                             |REPÚBLICA FEDERATIVA DO BRASIL • IMPRENSA NACIONAL                                                                             |\n",
            "|0     |1   |Ano CLXI Nº 12 Brasília - DF, terça-feira, 17 de janeiro de 2023ISSN 1677-7069                                                                                                                                |Ano CLXI Nº 12 Brasília  DF terçafeira 17 de janeiro de 2023ISSN 16777069                                                      |Ano CLXI Nº 12 Brasília  DF terçafeira 17 de janeiro de 2023ISSN 16777069                                                      |\n",
            "|0     |2   |3                                                                                                                                                                                                             |3                                                                                                                              |3                                                                                                                              |\n",
            "|0     |3   |Documento assinado digitalmente conforme MP nº 2.200-2 de 24/08/2001,                                                                                                                                         |Documento assinado digitalmente conforme MP nº 22002 de 24082001                                                               |Documento assinado digitalmente conforme MP nº 22002 de 24082001                                                               |\n",
            "|0     |4   |que institui a Infraestrutura de Chaves Públicas Brasileira - ICP-Brasil.Este documento pode ser verificado no endereço eletrônico                                                                            |que institui a Infraestrutura de Chaves Públicas Brasileira  ICPBrasilEste documento pode ser verificado no endereço eletrônico|que institui a Infraestrutura de Chaves Públicas Brasileira  ICPBrasilEste documento pode ser verificado no endereço eletrônico|\n",
            "|0     |5   |http://www.in.gov.br/autenticidade.html , pelo código 053020230117000011Presidência da República ................................................................ .......................................... 1|httpwwwingovbrautenticidadehtml  pelo código 053020230117000011Presidência da República   1                                    |httpwwwingovbrautenticidadehtml  pelo código 053020230117000011Presidência da República   1                                    |\n",
            "|0     |6   |Ministério da Agricultura, Pecuária e Abastecimento ............................................................ 2                                                                                            |Ministério da Agricultura Pecuária e Abastecimento  2                                                                          |Ministério da Agricultura Pecuária e Abastecimento  2                                                                          |\n",
            "|0     |7   |Ministério da Cidadania ............................................................................................................ 8                                                                        |Ministério da Cidadania  8                                                                                                     |Ministério da Cidadania  8                                                                                                     |\n",
            "|0     |8   |Ministério da Ciência, Tecnologia e Inovações ................................................................                                                                                                |Ministério da Ciência Tecnologia e Inovações                                                                                   |Ministério da Ciência Tecnologia e Inovações                                                                                   |\n",
            "|0     |9   |....... 9                                                                                                                                                                                                     | 9                                                                                                                             |9                                                                                                                              |\n",
            "+------+----+--------------------------------------------------------------------------------------------------------------------------------------------------------------------------------------------------------------+-------------------------------------------------------------------------------------------------------------------------------+-------------------------------------------------------------------------------------------------------------------------------+\n",
            "only showing top 10 rows\n",
            "\n"
          ]
        }
      ]
    },
    {
      "cell_type": "code",
      "source": [
        "amostra = data.select('texto_trim').sample(fraction = 0.5, seed = 101)\n",
        "tudo = [texto['texto_trim'] for texto in amostra.collect()]\n",
        "wordcloud = WordCloud(background_color = 'white',\n",
        "                      width = 1000,\n",
        "                      height = 600,\n",
        "                      collocations = True, \n",
        "                      prefer_horizontal = 1).generate(str(tudo))\n",
        "plt.figure(figsize=(20,8))\n",
        "plt.imshow(wordcloud)\n",
        "plt.axis(\"off\")\n",
        "plt.show()"
      ],
      "metadata": {
        "id": "Qr4WzwmoJkAv"
      },
      "execution_count": null,
      "outputs": []
    },
    {
      "cell_type": "code",
      "source": [
        "from pyspark.ml.feature import Tokenizer\n",
        "\n",
        "tokenizer = Tokenizer(inputCol = \"texto_trim\", outputCol = \"tokens\")\n",
        "tokenizado = tokenizer.transform(data)\n",
        "\n",
        "tokenizado.select(\"texto_trim\", \"tokens\").show()"
      ],
      "metadata": {
        "id": "bq9VdA0IIl8c",
        "colab": {
          "base_uri": "https://localhost:8080/"
        },
        "outputId": "64833ee5-e402-4dd5-c5f3-39f05c081d14"
      },
      "execution_count": null,
      "outputs": [
        {
          "output_type": "stream",
          "name": "stdout",
          "text": [
            "+--------------------+--------------------+\n",
            "|          texto_trim|              tokens|\n",
            "+--------------------+--------------------+\n",
            "|REPÚBLICA FEDERAT...|[república, feder...|\n",
            "|Ano CLXI Nº 12 Br...|[ano, clxi, nº, 1...|\n",
            "|                   3|                 [3]|\n",
            "|Documento assinad...|[documento, assin...|\n",
            "|que institui a In...|[que, institui, a...|\n",
            "|httpwwwingovbraut...|[httpwwwingovbrau...|\n",
            "|Ministério da Agr...|[ministério, da, ...|\n",
            "|Ministério da Cid...|[ministério, da, ...|\n",
            "|Ministério da Ciê...|[ministério, da, ...|\n",
            "|                   9|                 [9]|\n",
            "|Ministério das Co...|[ministério, das,...|\n",
            "|Ministério da Def...|[ministério, da, ...|\n",
            "|Ministério do Des...|[ministério, do, ...|\n",
            "|                  23|                [23]|\n",
            "|Ministério da Eco...|[ministério, da, ...|\n",
            "|Ministério da Edu...|[ministério, da, ...|\n",
            "|Ministério da Inf...|[ministério, da, ...|\n",
            "|                  77|                [77]|\n",
            "|Ministério da Jus...|[ministério, da, ...|\n",
            "|Ministério do Mei...|[ministério, do, ...|\n",
            "+--------------------+--------------------+\n",
            "only showing top 20 rows\n",
            "\n"
          ]
        }
      ]
    }
  ]
}