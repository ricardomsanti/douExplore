{
  "cells": [
    {
      "cell_type": "markdown",
      "metadata": {
        "colab_type": "text",
        "id": "view-in-github"
      },
      "source": [
        "<a href=\"https://colab.research.google.com/github/ricardomsanti/douExplore/blob/master/DEX_1.ipynb\" target=\"_parent\"><img src=\"https://colab.research.google.com/assets/colab-badge.svg\" alt=\"Open In Colab\"/></a>"
      ]
    },
    {
      "cell_type": "markdown",
      "metadata": {
        "id": "OwO6ktujue1Z"
      },
      "source": [
        "# PACKAGES"
      ]
    },
    {
      "cell_type": "code",
      "execution_count": null,
      "metadata": {
        "colab": {
          "base_uri": "https://localhost:8080/"
        },
        "id": "HyKGNl7Ub0j4",
        "outputId": "038ce9fe-b61a-4ffe-e592-9598fd284084"
      },
      "outputs": [],
      "source": [
        "!pip install html5lib\n",
        "!pip install pyspark\n",
        "!pip install PyPDF2\n",
        "!pip install html5lib"
      ]
    },
    {
      "cell_type": "markdown",
      "metadata": {
        "id": "vTQ3HQ1jubhS"
      },
      "source": [
        "# DRIVE MOUNT"
      ]
    },
    {
      "cell_type": "code",
      "execution_count": null,
      "metadata": {
        "colab": {
          "base_uri": "https://localhost:8080/"
        },
        "id": "dadLkQ-Ot6rH",
        "outputId": "18ed3b95-8391-431b-e1ab-7195eabcb5c2"
      },
      "outputs": [],
      "source": [
        "from google.colab import drive\n",
        "drive.mount('/content/drive')"
      ]
    },
    {
      "cell_type": "markdown",
      "metadata": {
        "id": "rdqCe3Kq53Zn"
      },
      "source": [
        "# IMPORTS"
      ]
    },
    {
      "cell_type": "code",
      "execution_count": 3,
      "metadata": {
        "id": "z_VJqu8r47y1"
      },
      "outputs": [
        {
          "ename": "ModuleNotFoundError",
          "evalue": "No module named 'PyPDF2'",
          "output_type": "error",
          "traceback": [
            "\u001b[1;31m---------------------------------------------------------------------------\u001b[0m",
            "\u001b[1;31mModuleNotFoundError\u001b[0m                       Traceback (most recent call last)",
            "Cell \u001b[1;32mIn[3], line 2\u001b[0m\n\u001b[0;32m      1\u001b[0m \u001b[39mimport\u001b[39;00m \u001b[39mos\u001b[39;00m\n\u001b[1;32m----> 2\u001b[0m \u001b[39mfrom\u001b[39;00m \u001b[39mPyPDF2\u001b[39;00m \u001b[39mimport\u001b[39;00m PdfReader\n\u001b[0;32m      3\u001b[0m \u001b[39mimport\u001b[39;00m \u001b[39mpandas\u001b[39;00m \u001b[39mas\u001b[39;00m \u001b[39mpd\u001b[39;00m\n\u001b[0;32m      4\u001b[0m \u001b[39mfrom\u001b[39;00m \u001b[39mwordcloud\u001b[39;00m \u001b[39mimport\u001b[39;00m WordCloud\n",
            "\u001b[1;31mModuleNotFoundError\u001b[0m: No module named 'PyPDF2'"
          ]
        }
      ],
      "source": [
        "import os\n",
        "from PyPDF2 import PdfReader\n",
        "import pandas as pd\n",
        "from wordcloud import WordCloud\n",
        "import matplotlib.pyplot as plt\n"
      ]
    },
    {
      "cell_type": "markdown",
      "metadata": {
        "id": "hHdvhL8td9OT"
      },
      "source": [
        "# SPARK\n"
      ]
    },
    {
      "cell_type": "code",
      "execution_count": null,
      "metadata": {
        "id": "W2Ubj0Qid44R"
      },
      "outputs": [],
      "source": [
        "from pyspark.sql import SparkSession\n",
        "\n",
        "spark = SparkSession.builder \\\n",
        "    .master('local[*]') \\\n",
        "    .appName(\"my_app\") \\\n",
        "    .getOrCreate()\n",
        "\n",
        "import string\n",
        "from string import punctuation\n",
        "import pyspark.sql.functions as F"
      ]
    },
    {
      "cell_type": "markdown",
      "metadata": {
        "id": "2gcU67f-eUGf"
      },
      "source": [
        "# DOU - UNIÃO"
      ]
    },
    {
      "cell_type": "code",
      "execution_count": 25,
      "metadata": {},
      "outputs": [
        {
          "ename": "ModuleNotFoundError",
          "evalue": "No module named 'modules'",
          "output_type": "error",
          "traceback": [
            "\u001b[1;31m---------------------------------------------------------------------------\u001b[0m",
            "\u001b[1;31mModuleNotFoundError\u001b[0m                       Traceback (most recent call last)",
            "Cell \u001b[1;32mIn[25], line 1\u001b[0m\n\u001b[1;32m----> 1\u001b[0m \u001b[39mfrom\u001b[39;00m \u001b[39mmodules\u001b[39;00m\u001b[39m.\u001b[39;00m\u001b[39mreferences\u001b[39;00m \u001b[39mimport\u001b[39;00m main_references \u001b[39mas\u001b[39;00m a\n\u001b[0;32m      2\u001b[0m a\u001b[39m.\u001b[39ma\n",
            "\u001b[1;31mModuleNotFoundError\u001b[0m: No module named 'modules'"
          ]
        }
      ],
      "source": [
        "from references.paths import main_references as a\n",
        "a.a"
      ]
    },
    {
      "cell_type": "code",
      "execution_count": 6,
      "metadata": {
        "colab": {
          "base_uri": "https://localhost:8080/",
          "height": 36
        },
        "id": "njku_Gm2exgg",
        "outputId": "78d062da-a8d7-4baf-d813-6dc27b1eb4cc"
      },
      "outputs": [
        {
          "ename": "AttributeError",
          "evalue": "module 'REF.main_references' has no attribute 'DRIVE_DOU_FED'",
          "output_type": "error",
          "traceback": [
            "\u001b[1;31m---------------------------------------------------------------------------\u001b[0m",
            "\u001b[1;31mAttributeError\u001b[0m                            Traceback (most recent call last)",
            "Cell \u001b[1;32mIn[6], line 3\u001b[0m\n\u001b[0;32m      1\u001b[0m \u001b[39mfrom\u001b[39;00m \u001b[39mREF\u001b[39;00m \u001b[39mimport\u001b[39;00m main_references \u001b[39mas\u001b[39;00m mr\n\u001b[1;32m----> 3\u001b[0m FILES_PATH \u001b[39m=\u001b[39m mr\u001b[39m.\u001b[39;49mDRIVE_DOU_FED\n\u001b[0;32m      5\u001b[0m FILES \u001b[39m=\u001b[39m [[x\u001b[39m.\u001b[39mname, \\\n\u001b[0;32m      6\u001b[0m           x\u001b[39m.\u001b[39mpath]\\\n\u001b[0;32m      7\u001b[0m            \u001b[39mfor\u001b[39;00m x \u001b[39min\u001b[39;00m os\u001b[39m.\u001b[39mscandir(FILES_PATH) \u001b[39mif\u001b[39;00m \u001b[39m\"\u001b[39m\u001b[39m.pdf\u001b[39m\u001b[39m\"\u001b[39m \u001b[39min\u001b[39;00m \u001b[39mstr\u001b[39m(x)]\n\u001b[0;32m      9\u001b[0m display(\u001b[39mf\u001b[39m\u001b[39m\"\u001b[39m\u001b[39mTotal number of file: \u001b[39m\u001b[39m{\u001b[39;00m\u001b[39mlen\u001b[39m(FILES)\u001b[39m}\u001b[39;00m\u001b[39m\"\u001b[39m)\n",
            "\u001b[1;31mAttributeError\u001b[0m: module 'REF.main_references' has no attribute 'DRIVE_DOU_FED'"
          ]
        }
      ],
      "source": [
        "from REF import main_references as mr\n",
        "\n",
        "FILES_PATH = mr.DRIVE_DOU_FED\n",
        "\n",
        "FILES = [[x.name, \\\n",
        "          x.path]\\\n",
        "           for x in os.scandir(FILES_PATH) if \".pdf\" in str(x)]\n",
        "\n",
        "display(f\"Total number of file: {len(FILES)}\")"
      ]
    },
    {
      "cell_type": "code",
      "execution_count": null,
      "metadata": {
        "colab": {
          "base_uri": "https://localhost:8080/"
        },
        "id": "gpihhSBlfLCd",
        "outputId": "4b3af753-74df-415a-e09a-229246ae299c"
      },
      "outputs": [],
      "source": [
        "text_lines = []\n",
        "#ARQUIVOS\n",
        "for f in FILES:\n",
        "  obj = PdfReader(open(f[1], 'rb'))\n",
        "  ext_line = []\n",
        "  #PAGINAS\n",
        "  for page in range(0, len(obj.pages)):\n",
        "    main_text = obj.pages[page].extract_text().split(\"\\n\")\n",
        "    #LINHAS\n",
        "    for line in range(0,len(main_text)):\n",
        "      ext_line = []\n",
        "      ext_line = [f[1], page, line, main_text[line]]\n",
        "      print(f\"Page >> {page}  \\t\" +\n",
        "      f\" Line >> {line}  \\t\" +\n",
        "      f\" Object Pages: >> {len(obj.pages)}\")\n",
        "      text_lines.append(ext_line)"
      ]
    },
    {
      "cell_type": "code",
      "execution_count": null,
      "metadata": {
        "colab": {
          "base_uri": "https://localhost:8080/"
        },
        "id": "jWkvBZJnZCmP",
        "outputId": "f4981974-de65-45b8-940f-c0dd325adbc4"
      },
      "outputs": [],
      "source": [
        "\n",
        "lines = pd.DataFrame(text_lines)\n",
        "lines.columns = [\"path\", \"pg_num\",\"line\", \"string\"]\n",
        "data = spark.createDataFrame(lines)\n",
        "data = data.withColumn(\"texto_regex\", F.regexp_replace(\"string\", \"[\\$#,\\\"!%&'()*+-./:;<=>?@^_`´{|}~\\\\\\\\]\", \"\"))\n",
        "data = data.withColumn(\"texto_trim\", F.trim(data.texto_regex))\n",
        "data = data.withColumn(\"trim_list\", F.split(\"texto_trim\", \" \"))\n",
        "data.show(10, False)"
      ]
    },
    {
      "cell_type": "code",
      "execution_count": null,
      "metadata": {
        "colab": {
          "base_uri": "https://localhost:8080/"
        },
        "id": "bq9VdA0IIl8c",
        "outputId": "f0a6b234-ae03-4407-b73f-a3eb814c6fa3"
      },
      "outputs": [],
      "source": [
        "data2 = data.select(\"pg_num\", \"line\", \"string\")\n",
        "data2.show(100, False)"
      ]
    },
    {
      "cell_type": "code",
      "execution_count": null,
      "metadata": {
        "colab": {
          "base_uri": "https://localhost:8080/"
        },
        "id": "ZJC4AY_hRAlX",
        "outputId": "51d2c4f0-d79f-4d7c-ff65-a00644face99"
      },
      "outputs": [],
      "source": [
        "WORDS = [\"NACIONAL\", \"Ciência\", \"Abastecimento\"]\n",
        "\n",
        "data8 = data.select(\"pg_num\", \"trim_list\")\n",
        "for w in WORDS:  \n",
        "  data8 = data8.withColumn(f\"find_word >> {w}\", F.array_contains(F.col(\"trim_list\"), f\"{w}\"))\n",
        "data8.show(10, False)\n"
      ]
    },
    {
      "cell_type": "markdown",
      "metadata": {
        "id": "UJRqrAvOsJRe"
      },
      "source": []
    },
    {
      "cell_type": "code",
      "execution_count": null,
      "metadata": {
        "colab": {
          "base_uri": "https://localhost:8080/",
          "height": 662
        },
        "id": "GmoZRCvUsKCe",
        "outputId": "070a0a9a-2ccc-43c9-d039-a8908d373b2b"
      },
      "outputs": [],
      "source": []
    },
    {
      "cell_type": "code",
      "execution_count": null,
      "metadata": {
        "colab": {
          "base_uri": "https://localhost:8080/"
        },
        "id": "ZMjRrbxp0yLY",
        "outputId": "8effd58a-737e-469d-c8db-68a976da98aa"
      },
      "outputs": [],
      "source": [
        "data7 = data.withColumn(\"exp_line\", F.explode(\"trim_list\"))\n",
        "data7= data7.withColumn(\"IDX\", F.monotonically_increasing_id())\n",
        "data7 = data7.select(\"exp_line\", \"IDX\").drop_duplicates()\n",
        " \n",
        "data7.show(10)"
      ]
    },
    {
      "cell_type": "code",
      "execution_count": null,
      "metadata": {
        "id": "052EDJQcR87N"
      },
      "outputs": [],
      "source": []
    },
    {
      "cell_type": "code",
      "execution_count": null,
      "metadata": {
        "colab": {
          "base_uri": "https://localhost:8080/"
        },
        "id": "slH0XW0KwRNm",
        "outputId": "f9426ef4-1df9-4ab0-959d-373553728606"
      },
      "outputs": [],
      "source": [
        "data3 = data2.select(\"exp_line\")\n",
        "data4 = data3.drop_duplicates()\n",
        "data4 = data4.withColumn(\"IDX\", F.monotonically_increasing_id())"
      ]
    }
  ],
  "metadata": {
    "colab": {
      "authorship_tag": "ABX9TyOEaas+52J9p2UOVd/dl/Q5",
      "include_colab_link": true,
      "mount_file_id": "https://github.com/ricardomsanti/douExplore/blob/master/DEX_1.ipynb",
      "provenance": []
    },
    "kernelspec": {
      "display_name": "Python 3",
      "language": "python",
      "name": "python3"
    },
    "language_info": {
      "codemirror_mode": {
        "name": "ipython",
        "version": 3
      },
      "file_extension": ".py",
      "mimetype": "text/x-python",
      "name": "python",
      "nbconvert_exporter": "python",
      "pygments_lexer": "ipython3",
      "version": "3.9.12"
    },
    "vscode": {
      "interpreter": {
        "hash": "33e0ccba7d6455ad36d9e8e37b48a197789eab62a4c4b3e5410506b7cc84992d"
      }
    }
  },
  "nbformat": 4,
  "nbformat_minor": 0
}
