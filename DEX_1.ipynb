{
  "nbformat": 4,
  "nbformat_minor": 0,
  "metadata": {
    "colab": {
      "provenance": [],
      "mount_file_id": "1aStZiwZdm4X_wBHaXqjh-b8e_AfVVS-Y",
      "authorship_tag": "ABX9TyMD2z3/k3hM8or9btOWJgqQ",
      "include_colab_link": true
    },
    "kernelspec": {
      "name": "python3",
      "display_name": "Python 3"
    },
    "language_info": {
      "name": "python"
    }
  },
  "cells": [
    {
      "cell_type": "markdown",
      "metadata": {
        "id": "view-in-github",
        "colab_type": "text"
      },
      "source": [
        "<a href=\"https://colab.research.google.com/github/ricardomsanti/douExplore/blob/master/DEX_1.ipynb\" target=\"_parent\"><img src=\"https://colab.research.google.com/assets/colab-badge.svg\" alt=\"Open In Colab\"/></a>"
      ]
    },
    {
      "cell_type": "code",
      "source": [
        "#import requests as r\n",
        "!pip install html5lib\n",
        "!pip install pyspark\n",
        "!pip install PyPDF2\n",
        "!pip install html5lib"
      ],
      "metadata": {
        "colab": {
          "base_uri": "https://localhost:8080/"
        },
        "id": "HyKGNl7Ub0j4",
        "outputId": "47734072-608a-4564-e00e-1e3284630c34"
      },
      "execution_count": null,
      "outputs": [
        {
          "output_type": "stream",
          "name": "stdout",
          "text": [
            "Looking in indexes: https://pypi.org/simple, https://us-python.pkg.dev/colab-wheels/public/simple/\n",
            "Requirement already satisfied: html5lib in /usr/local/lib/python3.8/dist-packages (1.0.1)\n",
            "Requirement already satisfied: webencodings in /usr/local/lib/python3.8/dist-packages (from html5lib) (0.5.1)\n",
            "Requirement already satisfied: six>=1.9 in /usr/local/lib/python3.8/dist-packages (from html5lib) (1.15.0)\n"
          ]
        }
      ]
    },
    {
      "cell_type": "markdown",
      "source": [
        "# DOU"
      ],
      "metadata": {
        "id": "2gcU67f-eUGf"
      }
    },
    {
      "cell_type": "code",
      "execution_count": null,
      "metadata": {
        "id": "lFNAyEieCVhp"
      },
      "outputs": [],
      "source": [
        "## ACESSAR\n",
        "# https://www.in.gov.br/servicos/diario-oficial-da-uniao\n",
        "## IR PARA BASES DE DADOS E PUBLICAÇÕES // DIÁRIO COMPLETO: VERSÃO CERTIFICADA\n",
        "## BAIXAR OS PDFS E COLOCAR NA PASTA CORRESPONDENTE EM \n",
        "\n",
        "## FEDERAL\n",
        "\"https://pesquisa.in.gov.br/imprensa/core/jornalList.action\""
      ]
    },
    {
      "cell_type": "code",
      "source": [
        "!pip install PyPDF2"
      ],
      "metadata": {
        "colab": {
          "base_uri": "https://localhost:8080/"
        },
        "id": "O8JicESQXSWP",
        "outputId": "78993a32-1318-4ef5-a06d-e90f5f740251"
      },
      "execution_count": null,
      "outputs": [
        {
          "output_type": "stream",
          "name": "stdout",
          "text": [
            "Looking in indexes: https://pypi.org/simple, https://us-python.pkg.dev/colab-wheels/public/simple/\n",
            "Collecting PyPDF2\n",
            "  Downloading pypdf2-3.0.1-py3-none-any.whl (232 kB)\n",
            "\u001b[2K     \u001b[90m━━━━━━━━━━━━━━━━━━━━━━━━━━━━━━━━━━━━━━\u001b[0m \u001b[32m232.6/232.6 KB\u001b[0m \u001b[31m11.7 MB/s\u001b[0m eta \u001b[36m0:00:00\u001b[0m\n",
            "\u001b[?25hRequirement already satisfied: typing_extensions>=3.10.0.0 in /usr/local/lib/python3.8/dist-packages (from PyPDF2) (4.4.0)\n",
            "Installing collected packages: PyPDF2\n",
            "Successfully installed PyPDF2-3.0.1\n"
          ]
        }
      ]
    },
    {
      "cell_type": "code",
      "source": [
        "!pip install pyspark"
      ],
      "metadata": {
        "colab": {
          "base_uri": "https://localhost:8080/"
        },
        "id": "N2bdkDqxd7ll",
        "outputId": "3b21baa7-59ae-4561-f2fd-c287eb1a2b10"
      },
      "execution_count": null,
      "outputs": [
        {
          "output_type": "stream",
          "name": "stdout",
          "text": [
            "Looking in indexes: https://pypi.org/simple, https://us-python.pkg.dev/colab-wheels/public/simple/\n",
            "Collecting pyspark\n",
            "  Downloading pyspark-3.3.1.tar.gz (281.4 MB)\n",
            "\u001b[2K     \u001b[90m━━━━━━━━━━━━━━━━━━━━━━━━━━━━━━━━━━━━━━━\u001b[0m \u001b[32m281.4/281.4 MB\u001b[0m \u001b[31m5.4 MB/s\u001b[0m eta \u001b[36m0:00:00\u001b[0m\n",
            "\u001b[?25h  Preparing metadata (setup.py) ... \u001b[?25l\u001b[?25hdone\n",
            "Collecting py4j==0.10.9.5\n",
            "  Downloading py4j-0.10.9.5-py2.py3-none-any.whl (199 kB)\n",
            "\u001b[2K     \u001b[90m━━━━━━━━━━━━━━━━━━━━━━━━━━━━━━━━━━━━━━\u001b[0m \u001b[32m199.7/199.7 KB\u001b[0m \u001b[31m20.5 MB/s\u001b[0m eta \u001b[36m0:00:00\u001b[0m\n",
            "\u001b[?25hBuilding wheels for collected packages: pyspark\n",
            "  Building wheel for pyspark (setup.py) ... \u001b[?25l\u001b[?25hdone\n",
            "  Created wheel for pyspark: filename=pyspark-3.3.1-py2.py3-none-any.whl size=281845512 sha256=b0c6af92bc5c071ab0c3fa702fb03ff0049186afcd9ecf9e93c1a21d27c83ea6\n",
            "  Stored in directory: /root/.cache/pip/wheels/43/dc/11/ec201cd671da62fa9c5cc77078235e40722170ceba231d7598\n",
            "Successfully built pyspark\n",
            "Installing collected packages: py4j, pyspark\n",
            "Successfully installed py4j-0.10.9.5 pyspark-3.3.1\n"
          ]
        }
      ]
    },
    {
      "cell_type": "code",
      "source": [
        "import os\n",
        "import PyPDF2\n",
        "from PyPDF2 import PdfReader\n",
        "import pandas as pd\n",
        "from wordcloud import WordCloud\n",
        "import matplotlib.pyplot as plt"
      ],
      "metadata": {
        "id": "z_VJqu8r47y1"
      },
      "execution_count": null,
      "outputs": []
    },
    {
      "cell_type": "code",
      "source": [
        "from pyspark.sql import SparkSession\n",
        "\n",
        "spark = SparkSession.builder \\\n",
        "    .master('local[*]') \\\n",
        "    .appName(\"my_app\") \\\n",
        "    .getOrCreate()"
      ],
      "metadata": {
        "id": "W2Ubj0Qid44R"
      },
      "execution_count": null,
      "outputs": []
    },
    {
      "cell_type": "code",
      "source": [
        "import string\n",
        "from string import punctuation\n",
        "import pyspark.sql.functions as F\n",
        "\n",
        "FILES_PATH = \"/content/drive/MyDrive/DATA/DOU/SHARE\"\n",
        "\n",
        "FILES = [[x.name, \\\n",
        "          x.path]\\\n",
        "           for x in os.scandir(FILES_PATH) if \".pdf\" in str(x)]\n",
        "FILES \n",
        "########################\n",
        "text_lines = []\n",
        "for f in FILES:\n",
        "  obj = PdfReader(open(f[1], 'rb'))\n",
        "  ext_line = []\n",
        "  for page in range(0, len(obj.pages)):\n",
        "    main_text = obj.pages[page].extract_text().split(\"\\n\")\n",
        "    for line in range(0,len(main_text)):\n",
        "      ext_line = []\n",
        "      ext_line = [f[1], page, line, main_text[line]]\n",
        "      print(f\"Page >> {page}  \\t\" +\n",
        "      f\" Line >> {line}  \\t\" +\n",
        "      f\" Object Pages: >> {len(obj.pages)}\")\n",
        "      text_lines.append(ext_line)\n",
        "\n",
        "\n",
        "lines = pd.DataFrame(text_lines)\n",
        "lines.columns = [\"path\", \"pg_num\",\" line\", \"string\"]\n",
        "data = spark.createDataFrame(lines)\n",
        "data = data.withColumn(\"texto_regex\", F.regexp_replace(\"string\", \"[\\$#,\\\"!%&'()*+-./:;<=>?@^_`´{|}~\\\\\\\\]\", \"\"))\n",
        "data = data.withColumn(\"texto_trim\", F.trim(data.texto_regex))\n",
        "\n",
        "data.show(10, False)"
      ],
      "metadata": {
        "id": "jWkvBZJnZCmP"
      },
      "execution_count": null,
      "outputs": []
    },
    {
      "cell_type": "code",
      "source": [
        "data.show(10, False)"
      ],
      "metadata": {
        "colab": {
          "base_uri": "https://localhost:8080/"
        },
        "id": "z2vvVT2FE_Eo",
        "outputId": "3f8e76b8-f943-48fb-f9f5-d75c35bde5cf"
      },
      "execution_count": null,
      "outputs": [
        {
          "output_type": "stream",
          "name": "stdout",
          "text": [
            "+---------------------------------------------------------------------+------+-----+-------------------------------------------------------------------------------------------------------------------------------------+-------------------------------------------------------------------------------------------------------------------------------+-------------------------------------------------------------------------------------------------------------------------------+\n",
            "|path                                                                 |pg_num| line|string                                                                                                                               |texto_regex                                                                                                                    |texto_trim                                                                                                                     |\n",
            "+---------------------------------------------------------------------+------+-----+-------------------------------------------------------------------------------------------------------------------------------------+-------------------------------------------------------------------------------------------------------------------------------+-------------------------------------------------------------------------------------------------------------------------------+\n",
            "|/content/drive/MyDrive/DATA/DOU/SHARE/2023_01_18_ASSINADO_do2 (1).pdf|0     |0    |REPÚBLICA FEDERATIVA DO BRASIL • IMPRENSA NACIONAL                                                                                   |REPÚBLICA FEDERATIVA DO BRASIL • IMPRENSA NACIONAL                                                                             |REPÚBLICA FEDERATIVA DO BRASIL • IMPRENSA NACIONAL                                                                             |\n",
            "|/content/drive/MyDrive/DATA/DOU/SHARE/2023_01_18_ASSINADO_do2 (1).pdf|0     |1    |Ano LXIV Nº 13 Brasília - DF, quarta-feira, 18 de janeiro de 2023ISSN 1677-7050                                                      |Ano LXIV Nº 13 Brasília  DF quartafeira 18 de janeiro de 2023ISSN 16777050                                                     |Ano LXIV Nº 13 Brasília  DF quartafeira 18 de janeiro de 2023ISSN 16777050                                                     |\n",
            "|/content/drive/MyDrive/DATA/DOU/SHARE/2023_01_18_ASSINADO_do2 (1).pdf|0     |2    |2                                                                                                                                    |2                                                                                                                              |2                                                                                                                              |\n",
            "|/content/drive/MyDrive/DATA/DOU/SHARE/2023_01_18_ASSINADO_do2 (1).pdf|0     |3    |Documento assinado digitalmente conforme MP nº 2.200-2 de 24/08/2001,                                                                |Documento assinado digitalmente conforme MP nº 22002 de 24082001                                                               |Documento assinado digitalmente conforme MP nº 22002 de 24082001                                                               |\n",
            "|/content/drive/MyDrive/DATA/DOU/SHARE/2023_01_18_ASSINADO_do2 (1).pdf|0     |4    |que institui a Infraestrutura de Chaves Públicas Brasileira - ICP-Brasil.Este documento pode ser verificado no endereço eletrônico   |que institui a Infraestrutura de Chaves Públicas Brasileira  ICPBrasilEste documento pode ser verificado no endereço eletrônico|que institui a Infraestrutura de Chaves Públicas Brasileira  ICPBrasilEste documento pode ser verificado no endereço eletrônico|\n",
            "|/content/drive/MyDrive/DATA/DOU/SHARE/2023_01_18_ASSINADO_do2 (1).pdf|0     |5    |http://www.in.gov.br/autenticidade.html , pelo código 052920230118000011Sumário                                                      |httpwwwingovbrautenticidadehtml  pelo código 052920230118000011Sumário                                                         |httpwwwingovbrautenticidadehtml  pelo código 052920230118000011Sumário                                                         |\n",
            "|/content/drive/MyDrive/DATA/DOU/SHARE/2023_01_18_ASSINADO_do2 (1).pdf|0     |6    |Presidência da República .......................................................................................................... 1|Presidência da República  1                                                                                                    |Presidência da República  1                                                                                                    |\n",
            "|/content/drive/MyDrive/DATA/DOU/SHARE/2023_01_18_ASSINADO_do2 (1).pdf|0     |7    |Ministério da Agricultura, Pecuária e Abastecimento ............................................................ 6                   |Ministério da Agricultura Pecuária e Abastecimento  6                                                                          |Ministério da Agricultura Pecuária e Abastecimento  6                                                                          |\n",
            "|/content/drive/MyDrive/DATA/DOU/SHARE/2023_01_18_ASSINADO_do2 (1).pdf|0     |8    |Ministério da Ciência, Tecnologia e Inovações ....................................................................... 6              |Ministério da Ciência Tecnologia e Inovações  6                                                                                |Ministério da Ciência Tecnologia e Inovações  6                                                                                |\n",
            "|/content/drive/MyDrive/DATA/DOU/SHARE/2023_01_18_ASSINADO_do2 (1).pdf|0     |9    |Ministério das Comunicações ................................................................................................... 6    |Ministério das Comunicações  6                                                                                                 |Ministério das Comunicações  6                                                                                                 |\n",
            "+---------------------------------------------------------------------+------+-----+-------------------------------------------------------------------------------------------------------------------------------------+-------------------------------------------------------------------------------------------------------------------------------+-------------------------------------------------------------------------------------------------------------------------------+\n",
            "only showing top 10 rows\n",
            "\n"
          ]
        }
      ]
    },
    {
      "cell_type": "code",
      "source": [
        "from pyspark.ml.feature import Tokenizer\n",
        "\n",
        "tokenizer = Tokenizer(inputCol = \"texto_trim\", outputCol = \"tokens\")\n",
        "tokenizado = tokenizer.transform(data)\n",
        "\n",
        "tokenizado.show(10)\n"
      ],
      "metadata": {
        "id": "bq9VdA0IIl8c",
        "colab": {
          "base_uri": "https://localhost:8080/"
        },
        "outputId": "72efa927-f1ba-4d36-ec68-8e8108a43ecc"
      },
      "execution_count": null,
      "outputs": [
        {
          "output_type": "stream",
          "name": "stdout",
          "text": [
            "+--------------------+------+-----+--------------------+--------------------+--------------------+--------------------+\n",
            "|                path|pg_num| line|              string|         texto_regex|          texto_trim|              tokens|\n",
            "+--------------------+------+-----+--------------------+--------------------+--------------------+--------------------+\n",
            "|/content/drive/My...|     0|    0|REPÚBLICA FEDERAT...|REPÚBLICA FEDERAT...|REPÚBLICA FEDERAT...|[república, feder...|\n",
            "|/content/drive/My...|     0|    1|Ano LXIV Nº 13 Br...|Ano LXIV Nº 13 Br...|Ano LXIV Nº 13 Br...|[ano, lxiv, nº, 1...|\n",
            "|/content/drive/My...|     0|    2|                   2|                   2|                   2|                 [2]|\n",
            "|/content/drive/My...|     0|    3|Documento assinad...|Documento assinad...|Documento assinad...|[documento, assin...|\n",
            "|/content/drive/My...|     0|    4|que institui a In...|que institui a In...|que institui a In...|[que, institui, a...|\n",
            "|/content/drive/My...|     0|    5|http://www.in.gov...|httpwwwingovbraut...|httpwwwingovbraut...|[httpwwwingovbrau...|\n",
            "|/content/drive/My...|     0|    6|Presidência da Re...|Presidência da Re...|Presidência da Re...|[presidência, da,...|\n",
            "|/content/drive/My...|     0|    7|Ministério da Agr...|Ministério da Agr...|Ministério da Agr...|[ministério, da, ...|\n",
            "|/content/drive/My...|     0|    8|Ministério da Ciê...|Ministério da Ciê...|Ministério da Ciê...|[ministério, da, ...|\n",
            "|/content/drive/My...|     0|    9|Ministério das Co...|Ministério das Co...|Ministério das Co...|[ministério, das,...|\n",
            "+--------------------+------+-----+--------------------+--------------------+--------------------+--------------------+\n",
            "only showing top 10 rows\n",
            "\n"
          ]
        }
      ]
    },
    {
      "cell_type": "code",
      "source": [
        "\n",
        "from pyspark.sql.types import IntegerType\n",
        "\n",
        "# Entendendo em quantos tokens os comentários foram divididos.\n",
        "countTokens = F.udf(lambda tokens: len(tokens), IntegerType())\n",
        "\n",
        "tokenizado.select(\"texto_trim\", \"tokens\")\\\n",
        "          .withColumn(\"Freq_tokens\", countTokens(F.col(\"tokens\"))).show()\n",
        "\n",
        "tokenizado.select(\"texto_trim\", \"tokens\").show()"
      ],
      "metadata": {
        "colab": {
          "base_uri": "https://localhost:8080/"
        },
        "id": "slH0XW0KwRNm",
        "outputId": "1c7f6c3f-70d4-454b-c431-02a92da50298"
      },
      "execution_count": null,
      "outputs": [
        {
          "output_type": "stream",
          "name": "stdout",
          "text": [
            "+--------------------+--------------------+-----------+\n",
            "|          texto_trim|              tokens|Freq_tokens|\n",
            "+--------------------+--------------------+-----------+\n",
            "|REPÚBLICA FEDERAT...|[república, feder...|          7|\n",
            "|Ano LXIV Nº 13 Br...|[ano, lxiv, nº, 1...|         14|\n",
            "|                   2|                 [2]|          1|\n",
            "|Documento assinad...|[documento, assin...|          9|\n",
            "|que institui a In...|[que, institui, a...|         17|\n",
            "|httpwwwingovbraut...|[httpwwwingovbrau...|          5|\n",
            "|Presidência da Re...|[presidência, da,...|          5|\n",
            "|Ministério da Agr...|[ministério, da, ...|          8|\n",
            "|Ministério da Ciê...|[ministério, da, ...|          8|\n",
            "|Ministério das Co...|[ministério, das,...|          5|\n",
            "|Ministério da Def...|[ministério, da, ...|          5|\n",
            "|Ministério do Des...|[ministério, do, ...|          6|\n",
            "|Ministério da Eco...|[ministério, da, ...|          5|\n",
            "|Ministério da Edu...|[ministério, da, ...|          3|\n",
            "|                  17|                [17]|          1|\n",
            "|Ministério da Inf...|[ministério, da, ...|          5|\n",
            "|Ministério da Jus...|[ministério, da, ...|          6|\n",
            "|                  30|                [30]|          1|\n",
            "|Ministério do Mei...|[ministério, do, ...|          7|\n",
            "|Ministério de Min...|[ministério, de, ...|          7|\n",
            "+--------------------+--------------------+-----------+\n",
            "only showing top 20 rows\n",
            "\n",
            "+--------------------+--------------------+\n",
            "|          texto_trim|              tokens|\n",
            "+--------------------+--------------------+\n",
            "|REPÚBLICA FEDERAT...|[república, feder...|\n",
            "|Ano LXIV Nº 13 Br...|[ano, lxiv, nº, 1...|\n",
            "|                   2|                 [2]|\n",
            "|Documento assinad...|[documento, assin...|\n",
            "|que institui a In...|[que, institui, a...|\n",
            "|httpwwwingovbraut...|[httpwwwingovbrau...|\n",
            "|Presidência da Re...|[presidência, da,...|\n",
            "|Ministério da Agr...|[ministério, da, ...|\n",
            "|Ministério da Ciê...|[ministério, da, ...|\n",
            "|Ministério das Co...|[ministério, das,...|\n",
            "|Ministério da Def...|[ministério, da, ...|\n",
            "|Ministério do Des...|[ministério, do, ...|\n",
            "|Ministério da Eco...|[ministério, da, ...|\n",
            "|Ministério da Edu...|[ministério, da, ...|\n",
            "|                  17|                [17]|\n",
            "|Ministério da Inf...|[ministério, da, ...|\n",
            "|Ministério da Jus...|[ministério, da, ...|\n",
            "|                  30|                [30]|\n",
            "|Ministério do Mei...|[ministério, do, ...|\n",
            "|Ministério de Min...|[ministério, de, ...|\n",
            "+--------------------+--------------------+\n",
            "only showing top 20 rows\n",
            "\n"
          ]
        }
      ]
    },
    {
      "cell_type": "code",
      "source": [
        "import nltk\n",
        "nltk.download(\"stopwords\")\n",
        "\n",
        "from nltk.corpus import stopwords\n",
        "stop_A = stopwords.words(\"portuguese\")"
      ],
      "metadata": {
        "colab": {
          "base_uri": "https://localhost:8080/"
        },
        "id": "4EqqeYODwyFd",
        "outputId": "fe3f9871-aa0b-49ea-c9fc-6d483580dabd"
      },
      "execution_count": null,
      "outputs": [
        {
          "output_type": "stream",
          "name": "stderr",
          "text": [
            "[nltk_data] Downloading package stopwords to /root/nltk_data...\n",
            "[nltk_data]   Unzipping corpora/stopwords.zip.\n"
          ]
        }
      ]
    },
    {
      "cell_type": "code",
      "source": [
        "#Exemplo explorando bibliotecas. (pyspark)\n",
        "from pyspark.ml.feature import StopWordsRemover\n",
        "\n",
        "stop_B = StopWordsRemover.loadDefaultStopWords(\"portuguese\")"
      ],
      "metadata": {
        "id": "Eh0KImt7w3mm"
      },
      "execution_count": null,
      "outputs": []
    },
    {
      "cell_type": "code",
      "source": [
        "# exemplo comparando os diferentes stopwords #A\n",
        "from pyspark.ml.feature import Tokenizer\n",
        "\n",
        "tokenizer = Tokenizer(inputCol = \"texto_trim\", outputCol = \"tokens\")\n",
        "tokenized = tokenizer.transform(data)\n",
        "\n",
        "remover = StopWordsRemover(inputCol = \"tokens\", outputCol = \"texto_final\", stopWords= stop_A)\n",
        "df = remover.transform(tokenized)\n",
        "\n",
        "df.show(truncate = False)"
      ],
      "metadata": {
        "colab": {
          "base_uri": "https://localhost:8080/"
        },
        "id": "x_ifN3oDw8yS",
        "outputId": "8fdfe136-7ed4-48e3-f82a-1b5dab829c27"
      },
      "execution_count": null,
      "outputs": [
        {
          "output_type": "stream",
          "name": "stdout",
          "text": [
            "+---------------------------------------------------------------------+------+-----+----------------------------------------------------------------------------------------------------------------------------------------+-------------------------------------------------------------------------------------------------------------------------------+-------------------------------------------------------------------------------------------------------------------------------+-------------------------------------------------------------------------------------------------------------------------------------------------+----------------------------------------------------------------------------------------------------------------------------+\n",
            "|path                                                                 |pg_num| line|string                                                                                                                                  |texto_regex                                                                                                                    |texto_trim                                                                                                                     |tokens                                                                                                                                           |texto_final                                                                                                                 |\n",
            "+---------------------------------------------------------------------+------+-----+----------------------------------------------------------------------------------------------------------------------------------------+-------------------------------------------------------------------------------------------------------------------------------+-------------------------------------------------------------------------------------------------------------------------------+-------------------------------------------------------------------------------------------------------------------------------------------------+----------------------------------------------------------------------------------------------------------------------------+\n",
            "|/content/drive/MyDrive/DATA/DOU/SHARE/2023_01_18_ASSINADO_do2 (1).pdf|0     |0    |REPÚBLICA FEDERATIVA DO BRASIL • IMPRENSA NACIONAL                                                                                      |REPÚBLICA FEDERATIVA DO BRASIL • IMPRENSA NACIONAL                                                                             |REPÚBLICA FEDERATIVA DO BRASIL • IMPRENSA NACIONAL                                                                             |[república, federativa, do, brasil, •, imprensa, nacional]                                                                                       |[república, federativa, brasil, •, imprensa, nacional]                                                                      |\n",
            "|/content/drive/MyDrive/DATA/DOU/SHARE/2023_01_18_ASSINADO_do2 (1).pdf|0     |1    |Ano LXIV Nº 13 Brasília - DF, quarta-feira, 18 de janeiro de 2023ISSN 1677-7050                                                         |Ano LXIV Nº 13 Brasília  DF quartafeira 18 de janeiro de 2023ISSN 16777050                                                     |Ano LXIV Nº 13 Brasília  DF quartafeira 18 de janeiro de 2023ISSN 16777050                                                     |[ano, lxiv, nº, 13, brasília, , df, quartafeira, 18, de, janeiro, de, 2023issn, 16777050]                                                        |[ano, lxiv, nº, 13, brasília, , df, quartafeira, 18, janeiro, 2023issn, 16777050]                                           |\n",
            "|/content/drive/MyDrive/DATA/DOU/SHARE/2023_01_18_ASSINADO_do2 (1).pdf|0     |2    |2                                                                                                                                       |2                                                                                                                              |2                                                                                                                              |[2]                                                                                                                                              |[2]                                                                                                                         |\n",
            "|/content/drive/MyDrive/DATA/DOU/SHARE/2023_01_18_ASSINADO_do2 (1).pdf|0     |3    |Documento assinado digitalmente conforme MP nº 2.200-2 de 24/08/2001,                                                                   |Documento assinado digitalmente conforme MP nº 22002 de 24082001                                                               |Documento assinado digitalmente conforme MP nº 22002 de 24082001                                                               |[documento, assinado, digitalmente, conforme, mp, nº, 22002, de, 24082001]                                                                       |[documento, assinado, digitalmente, conforme, mp, nº, 22002, 24082001]                                                      |\n",
            "|/content/drive/MyDrive/DATA/DOU/SHARE/2023_01_18_ASSINADO_do2 (1).pdf|0     |4    |que institui a Infraestrutura de Chaves Públicas Brasileira - ICP-Brasil.Este documento pode ser verificado no endereço eletrônico      |que institui a Infraestrutura de Chaves Públicas Brasileira  ICPBrasilEste documento pode ser verificado no endereço eletrônico|que institui a Infraestrutura de Chaves Públicas Brasileira  ICPBrasilEste documento pode ser verificado no endereço eletrônico|[que, institui, a, infraestrutura, de, chaves, públicas, brasileira, , icpbrasileste, documento, pode, ser, verificado, no, endereço, eletrônico]|[institui, infraestrutura, chaves, públicas, brasileira, , icpbrasileste, documento, pode, verificado, endereço, eletrônico]|\n",
            "|/content/drive/MyDrive/DATA/DOU/SHARE/2023_01_18_ASSINADO_do2 (1).pdf|0     |5    |http://www.in.gov.br/autenticidade.html , pelo código 052920230118000011Sumário                                                         |httpwwwingovbrautenticidadehtml  pelo código 052920230118000011Sumário                                                         |httpwwwingovbrautenticidadehtml  pelo código 052920230118000011Sumário                                                         |[httpwwwingovbrautenticidadehtml, , pelo, código, 052920230118000011sumário]                                                                     |[httpwwwingovbrautenticidadehtml, , código, 052920230118000011sumário]                                                      |\n",
            "|/content/drive/MyDrive/DATA/DOU/SHARE/2023_01_18_ASSINADO_do2 (1).pdf|0     |6    |Presidência da República .......................................................................................................... 1   |Presidência da República  1                                                                                                    |Presidência da República  1                                                                                                    |[presidência, da, república, , 1]                                                                                                                |[presidência, república, , 1]                                                                                               |\n",
            "|/content/drive/MyDrive/DATA/DOU/SHARE/2023_01_18_ASSINADO_do2 (1).pdf|0     |7    |Ministério da Agricultura, Pecuária e Abastecimento ............................................................ 6                      |Ministério da Agricultura Pecuária e Abastecimento  6                                                                          |Ministério da Agricultura Pecuária e Abastecimento  6                                                                          |[ministério, da, agricultura, pecuária, e, abastecimento, , 6]                                                                                   |[ministério, agricultura, pecuária, abastecimento, , 6]                                                                     |\n",
            "|/content/drive/MyDrive/DATA/DOU/SHARE/2023_01_18_ASSINADO_do2 (1).pdf|0     |8    |Ministério da Ciência, Tecnologia e Inovações ....................................................................... 6                 |Ministério da Ciência Tecnologia e Inovações  6                                                                                |Ministério da Ciência Tecnologia e Inovações  6                                                                                |[ministério, da, ciência, tecnologia, e, inovações, , 6]                                                                                         |[ministério, ciência, tecnologia, inovações, , 6]                                                                           |\n",
            "|/content/drive/MyDrive/DATA/DOU/SHARE/2023_01_18_ASSINADO_do2 (1).pdf|0     |9    |Ministério das Comunicações ................................................................................................... 6       |Ministério das Comunicações  6                                                                                                 |Ministério das Comunicações  6                                                                                                 |[ministério, das, comunicações, , 6]                                                                                                             |[ministério, comunicações, , 6]                                                                                             |\n",
            "|/content/drive/MyDrive/DATA/DOU/SHARE/2023_01_18_ASSINADO_do2 (1).pdf|0     |10   |Ministério da Defesa ................................................................................................................. 7|Ministério da Defesa  7                                                                                                        |Ministério da Defesa  7                                                                                                        |[ministério, da, defesa, , 7]                                                                                                                    |[ministério, defesa, , 7]                                                                                                   |\n",
            "|/content/drive/MyDrive/DATA/DOU/SHARE/2023_01_18_ASSINADO_do2 (1).pdf|0     |11   |Ministério do Desenvolvimento Regional .............................................................................. 13                |Ministério do Desenvolvimento Regional  13                                                                                     |Ministério do Desenvolvimento Regional  13                                                                                     |[ministério, do, desenvolvimento, regional, , 13]                                                                                                |[ministério, desenvolvimento, regional, , 13]                                                                               |\n",
            "|/content/drive/MyDrive/DATA/DOU/SHARE/2023_01_18_ASSINADO_do2 (1).pdf|0     |12   |Ministério da Economia .......................................................................................................... 14    |Ministério da Economia  14                                                                                                     |Ministério da Economia  14                                                                                                     |[ministério, da, economia, , 14]                                                                                                                 |[ministério, economia, , 14]                                                                                                |\n",
            "|/content/drive/MyDrive/DATA/DOU/SHARE/2023_01_18_ASSINADO_do2 (1).pdf|0     |13   |Ministério da Educação ................................................................                                                 |Ministério da Educação                                                                                                         |Ministério da Educação                                                                                                         |[ministério, da, educação]                                                                                                                       |[ministério, educação]                                                                                                      |\n",
            "|/content/drive/MyDrive/DATA/DOU/SHARE/2023_01_18_ASSINADO_do2 (1).pdf|0     |14   |........................................... 17                                                                                          | 17                                                                                                                            |17                                                                                                                             |[17]                                                                                                                                             |[17]                                                                                                                        |\n",
            "|/content/drive/MyDrive/DATA/DOU/SHARE/2023_01_18_ASSINADO_do2 (1).pdf|0     |15   |Ministério da Infraestrutura ................................................................................................... 29     |Ministério da Infraestrutura  29                                                                                               |Ministério da Infraestrutura  29                                                                                               |[ministério, da, infraestrutura, , 29]                                                                                                           |[ministério, infraestrutura, , 29]                                                                                          |\n",
            "|/content/drive/MyDrive/DATA/DOU/SHARE/2023_01_18_ASSINADO_do2 (1).pdf|0     |16   |Ministério da Justiça e Segurança Pública ................................................................                              |Ministério da Justiça e Segurança Pública                                                                                      |Ministério da Justiça e Segurança Pública                                                                                      |[ministério, da, justiça, e, segurança, pública]                                                                                                 |[ministério, justiça, segurança, pública]                                                                                   |\n",
            "|/content/drive/MyDrive/DATA/DOU/SHARE/2023_01_18_ASSINADO_do2 (1).pdf|0     |17   |............ 30                                                                                                                         | 30                                                                                                                            |30                                                                                                                             |[30]                                                                                                                                             |[30]                                                                                                                        |\n",
            "|/content/drive/MyDrive/DATA/DOU/SHARE/2023_01_18_ASSINADO_do2 (1).pdf|0     |18   |Ministério do Meio Ambiente ................................................................ ................................ 31        |Ministério do Meio Ambiente   31                                                                                               |Ministério do Meio Ambiente   31                                                                                               |[ministério, do, meio, ambiente, , , 31]                                                                                                         |[ministério, meio, ambiente, , , 31]                                                                                        |\n",
            "|/content/drive/MyDrive/DATA/DOU/SHARE/2023_01_18_ASSINADO_do2 (1).pdf|0     |19   |Ministério de Minas e Energia ............................................................................................... 31        |Ministério de Minas e Energia  31                                                                                              |Ministério de Minas e Energia  31                                                                                              |[ministério, de, minas, e, energia, , 31]                                                                                                        |[ministério, minas, energia, , 31]                                                                                          |\n",
            "+---------------------------------------------------------------------+------+-----+----------------------------------------------------------------------------------------------------------------------------------------+-------------------------------------------------------------------------------------------------------------------------------+-------------------------------------------------------------------------------------------------------------------------------+-------------------------------------------------------------------------------------------------------------------------------------------------+----------------------------------------------------------------------------------------------------------------------------+\n",
            "only showing top 20 rows\n",
            "\n"
          ]
        }
      ]
    },
    {
      "cell_type": "code",
      "source": [
        "# exemplo comparando os diferentes stopwords #B\n",
        "remover = StopWordsRemover(inputCol = \"tokens\", outputCol = \"texto_final\", stopWords=stop_B)\n",
        "df = remover.transform(tokenized)\n",
        "\n",
        "df.show(truncate = False)\n",
        "\n",
        "# 4. Retirando os stopwords dos depoimentos\n",
        "remover = StopWordsRemover(inputCol = \"tokens\", outputCol = \"texto_final\")\n",
        "feature_data = remover.transform(tokenizado)\n",
        "\n",
        "\n",
        "# Contagem de tokens antes e depois do stopwords.\n",
        "feature_data.select(\"tokens\", \"texto_final\")\\\n",
        "          .withColumn(\"Freq_tokens\", countTokens(f.col(\"tokens\")))\\\n",
        "          .withColumn(\"Freq_tokens_limpos\",  countTokens(f.col(\"texto_final\"))).show()"
      ],
      "metadata": {
        "id": "Cmia3v1hxYxW"
      },
      "execution_count": null,
      "outputs": []
    }
  ]
}